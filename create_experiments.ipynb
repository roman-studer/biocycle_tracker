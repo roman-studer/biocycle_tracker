{
 "cells": [
  {
   "cell_type": "markdown",
   "source": [
    "# Create a set of experiments\n",
    "\n",
    "This notebook allows to create a set of experiments. In the cell below, the configuration can be changed. The following steps are performed:\n",
    "1. load all objects from the database (including polymer_type)\n",
    "2. load all containers from the database\n",
    "3. filter objects either by \"included_types\" and/or \"non_usable_types\" (see configuration)\n",
    "4. stratified sampling of objects based on polymer_type\n",
    "5. create a set of experiments with a random number of objects per experiment (see configuration, based on the scipy.stats distribution and its parameters)\n",
    "6. create a set of containers (randomly sampled from the containers in the database)\n",
    "7. write experiments to database\n",
    "8. write a set of json instruction files to data folder"
   ],
   "metadata": {
    "collapsed": false
   }
  },
  {
   "cell_type": "markdown",
   "source": [
    "## Imports and Configuration"
   ],
   "metadata": {
    "collapsed": false
   }
  },
  {
   "cell_type": "code",
   "execution_count": 2,
   "outputs": [],
   "source": [
    "import numpy as np\n",
    "import pandas as pd\n",
    "import db_queries\n",
    "import db_builder\n",
    "import create_experiments_helpers as helpers"
   ],
   "metadata": {
    "collapsed": false,
    "ExecuteTime": {
     "start_time": "2023-05-02T14:26:55.351810Z",
     "end_time": "2023-05-02T14:26:56.408540Z"
    }
   }
  },
  {
   "cell_type": "code",
   "execution_count": 3,
   "outputs": [],
   "source": [
    "# configuration\n",
    "session_name: str = db_builder.get_next_session_id()\n",
    "min_length: int = 2 # min number of foreign objects per experiment\n",
    "max_length: int = 5 # max number of foreign objects per experiment\n",
    "n_experiments: int = 5 # number of experiments to create\n",
    "random_state: int = 42 # random state for reproducibility\n",
    "distribution_name: str = 'alpha' # distribution of length of experiment, choose any scipy.stats distribution\n",
    "distribution_params: dict = {'a': 4} # parameters of distribution\n",
    "non_usable_types: list = ['no sample', 'unclear'] # types that are not usable for experiments\n",
    "included_types: list = ['pe-hd','pe-ld','pp','pet'] # if not None, only these types are included in experiments\n",
    "\n",
    "target_name: str = 'type' # name of target column, stratified sampling is based on this column"
   ],
   "metadata": {
    "collapsed": false,
    "ExecuteTime": {
     "start_time": "2023-05-02T14:26:58.812142Z",
     "end_time": "2023-05-02T14:26:58.830290Z"
    }
   }
  },
  {
   "cell_type": "markdown",
   "source": [
    "## Load objects and containers"
   ],
   "metadata": {
    "collapsed": false
   }
  },
  {
   "cell_type": "code",
   "execution_count": 4,
   "outputs": [],
   "source": [
    "# load excel, additional sheets if needed are containers and description (with column_name description)\n",
    "con = db_builder.get_db_connection()\n",
    "\n",
    "df_objects = pd.read_sql(\"SELECT * FROM objects\", con)\n",
    "df_containers = pd.read_sql(\"SELECT * FROM containers\", con)"
   ],
   "metadata": {
    "collapsed": false,
    "ExecuteTime": {
     "start_time": "2023-05-02T14:28:49.427503Z",
     "end_time": "2023-05-02T14:28:49.467729Z"
    }
   }
  },
  {
   "cell_type": "code",
   "execution_count": 5,
   "outputs": [
    {
     "data": {
      "text/plain": "  object_id polymer_type  length texture stiffness  color contamination  \\\n0       1.1           pe    33.0   rough      soft   gray         dirty   \n1       1.2    cellophan    12.0   rough      soft   gray         dirty   \n2       1.3           pp    10.0   rough      soft  white         dirty   \n3       1.4           pe    20.0   rough      soft  white         clean   \n4       1.5           pp    25.0   rough      soft  white         clean   \n\n    form                 note reference_image  \n0   foil                 None               1  \n1   None  60% Übereinstimmung               1  \n2   foil                 None               1  \n3  fiber          Dünne Faser               1  \n4  fiber          Dünne Faser               1  ",
      "text/html": "<div>\n<style scoped>\n    .dataframe tbody tr th:only-of-type {\n        vertical-align: middle;\n    }\n\n    .dataframe tbody tr th {\n        vertical-align: top;\n    }\n\n    .dataframe thead th {\n        text-align: right;\n    }\n</style>\n<table border=\"1\" class=\"dataframe\">\n  <thead>\n    <tr style=\"text-align: right;\">\n      <th></th>\n      <th>object_id</th>\n      <th>polymer_type</th>\n      <th>length</th>\n      <th>texture</th>\n      <th>stiffness</th>\n      <th>color</th>\n      <th>contamination</th>\n      <th>form</th>\n      <th>note</th>\n      <th>reference_image</th>\n    </tr>\n  </thead>\n  <tbody>\n    <tr>\n      <th>0</th>\n      <td>1.1</td>\n      <td>pe</td>\n      <td>33.0</td>\n      <td>rough</td>\n      <td>soft</td>\n      <td>gray</td>\n      <td>dirty</td>\n      <td>foil</td>\n      <td>None</td>\n      <td>1</td>\n    </tr>\n    <tr>\n      <th>1</th>\n      <td>1.2</td>\n      <td>cellophan</td>\n      <td>12.0</td>\n      <td>rough</td>\n      <td>soft</td>\n      <td>gray</td>\n      <td>dirty</td>\n      <td>None</td>\n      <td>60% Übereinstimmung</td>\n      <td>1</td>\n    </tr>\n    <tr>\n      <th>2</th>\n      <td>1.3</td>\n      <td>pp</td>\n      <td>10.0</td>\n      <td>rough</td>\n      <td>soft</td>\n      <td>white</td>\n      <td>dirty</td>\n      <td>foil</td>\n      <td>None</td>\n      <td>1</td>\n    </tr>\n    <tr>\n      <th>3</th>\n      <td>1.4</td>\n      <td>pe</td>\n      <td>20.0</td>\n      <td>rough</td>\n      <td>soft</td>\n      <td>white</td>\n      <td>clean</td>\n      <td>fiber</td>\n      <td>Dünne Faser</td>\n      <td>1</td>\n    </tr>\n    <tr>\n      <th>4</th>\n      <td>1.5</td>\n      <td>pp</td>\n      <td>25.0</td>\n      <td>rough</td>\n      <td>soft</td>\n      <td>white</td>\n      <td>clean</td>\n      <td>fiber</td>\n      <td>Dünne Faser</td>\n      <td>1</td>\n    </tr>\n  </tbody>\n</table>\n</div>"
     },
     "execution_count": 5,
     "metadata": {},
     "output_type": "execute_result"
    }
   ],
   "source": [
    "df_objects.head()"
   ],
   "metadata": {
    "collapsed": false,
    "ExecuteTime": {
     "start_time": "2023-05-02T14:28:55.723752Z",
     "end_time": "2023-05-02T14:28:55.748578Z"
    }
   }
  },
  {
   "cell_type": "code",
   "execution_count": 6,
   "outputs": [
    {
     "data": {
      "text/plain": "  material_type container_id company location  date  note\n0       compost      CO-01-a    None     None  None  None\n1       compost      Co-01-b    None     None  None  None\n2       compost      CO-01-c    None     None  None  None\n3     digestive      DI-01-a    None     None  None  None\n4     digestive      DI-01-b    None     None  None  None",
      "text/html": "<div>\n<style scoped>\n    .dataframe tbody tr th:only-of-type {\n        vertical-align: middle;\n    }\n\n    .dataframe tbody tr th {\n        vertical-align: top;\n    }\n\n    .dataframe thead th {\n        text-align: right;\n    }\n</style>\n<table border=\"1\" class=\"dataframe\">\n  <thead>\n    <tr style=\"text-align: right;\">\n      <th></th>\n      <th>material_type</th>\n      <th>container_id</th>\n      <th>company</th>\n      <th>location</th>\n      <th>date</th>\n      <th>note</th>\n    </tr>\n  </thead>\n  <tbody>\n    <tr>\n      <th>0</th>\n      <td>compost</td>\n      <td>CO-01-a</td>\n      <td>None</td>\n      <td>None</td>\n      <td>None</td>\n      <td>None</td>\n    </tr>\n    <tr>\n      <th>1</th>\n      <td>compost</td>\n      <td>Co-01-b</td>\n      <td>None</td>\n      <td>None</td>\n      <td>None</td>\n      <td>None</td>\n    </tr>\n    <tr>\n      <th>2</th>\n      <td>compost</td>\n      <td>CO-01-c</td>\n      <td>None</td>\n      <td>None</td>\n      <td>None</td>\n      <td>None</td>\n    </tr>\n    <tr>\n      <th>3</th>\n      <td>digestive</td>\n      <td>DI-01-a</td>\n      <td>None</td>\n      <td>None</td>\n      <td>None</td>\n      <td>None</td>\n    </tr>\n    <tr>\n      <th>4</th>\n      <td>digestive</td>\n      <td>DI-01-b</td>\n      <td>None</td>\n      <td>None</td>\n      <td>None</td>\n      <td>None</td>\n    </tr>\n  </tbody>\n</table>\n</div>"
     },
     "execution_count": 6,
     "metadata": {},
     "output_type": "execute_result"
    }
   ],
   "source": [
    "df_containers.head()"
   ],
   "metadata": {
    "collapsed": false,
    "ExecuteTime": {
     "start_time": "2023-05-02T14:29:01.922611Z",
     "end_time": "2023-05-02T14:29:01.955119Z"
    }
   }
  },
  {
   "cell_type": "markdown",
   "source": [
    "## Pre-Processing of objects"
   ],
   "metadata": {
    "collapsed": false
   }
  },
  {
   "cell_type": "code",
   "execution_count": 7,
   "outputs": [],
   "source": [
    "df_objects = df_objects[['object_id', 'polymer_type']]"
   ],
   "metadata": {
    "collapsed": false,
    "ExecuteTime": {
     "start_time": "2023-05-02T14:30:18.818751Z",
     "end_time": "2023-05-02T14:30:18.836871Z"
    }
   }
  },
  {
   "cell_type": "code",
   "execution_count": 8,
   "outputs": [],
   "source": [
    "# drop rows with unsuitable type\n",
    "df_objects = df_objects[~df_objects['polymer_type'].isin(non_usable_types)]"
   ],
   "metadata": {
    "collapsed": false,
    "ExecuteTime": {
     "start_time": "2023-05-02T14:30:21.953504Z",
     "end_time": "2023-05-02T14:30:21.996472Z"
    }
   }
  },
  {
   "cell_type": "code",
   "execution_count": 10,
   "outputs": [],
   "source": [
    "# filter objects\n",
    "if included_types is not None:\n",
    "    df_objects = df_objects[df_objects['polymer_type'].isin(included_types)]"
   ],
   "metadata": {
    "collapsed": false,
    "ExecuteTime": {
     "start_time": "2023-05-02T14:30:29.053399Z",
     "end_time": "2023-05-02T14:30:29.073143Z"
    }
   }
  },
  {
   "cell_type": "markdown",
   "source": [
    "## Stratified sampling"
   ],
   "metadata": {
    "collapsed": false
   }
  },
  {
   "cell_type": "code",
   "execution_count": 12,
   "outputs": [],
   "source": [
    "distribution = helpers.load_scipy_distribution_by_name(distribution_name, distribution_params)\n",
    "n_objects = distribution.rvs(n_experiments)"
   ],
   "metadata": {
    "collapsed": false,
    "ExecuteTime": {
     "start_time": "2023-05-02T14:31:19.548544Z",
     "end_time": "2023-05-02T14:31:19.559657Z"
    }
   }
  },
  {
   "cell_type": "code",
   "execution_count": 14,
   "outputs": [],
   "source": [
    "experiment_lengths = helpers.get_experiment_lengths(distribution, n_experiments, min_length, max_length)"
   ],
   "metadata": {
    "collapsed": false,
    "ExecuteTime": {
     "start_time": "2023-05-02T14:36:31.380579Z",
     "end_time": "2023-05-02T14:36:31.385717Z"
    }
   }
  },
  {
   "cell_type": "code",
   "execution_count": 16,
   "outputs": [],
   "source": [
    "containers = df_containers.sample(n=n_experiments, replace=True)['container_id'].values"
   ],
   "metadata": {
    "collapsed": false,
    "ExecuteTime": {
     "start_time": "2023-05-02T14:36:55.911413Z",
     "end_time": "2023-05-02T14:36:55.936663Z"
    }
   }
  },
  {
   "cell_type": "markdown",
   "source": [
    "## Create experiments"
   ],
   "metadata": {
    "collapsed": false
   }
  },
  {
   "cell_type": "code",
   "execution_count": 22,
   "outputs": [
    {
     "data": {
      "text/plain": "  session_id experiment_id container_id                          objects  \\\n0      S0001         E0040      CO-01-a                      [15_6, 6_8]   \n1      S0001         E0041      CO-01-a                      [7_1, 11_2]   \n2      S0001         E0042      DI-01-a  [16_4, 6_5a, 3_13, 11_6, 11_14]   \n3      S0001         E0043      DI-01-b              [16_14, 12_4, 13_8]   \n4      S0001         E0044      Co-01-b               [9_1, 12_8a, 14_6]   \n\n  n_objects  \n0         2  \n1         2  \n2         5  \n3         3  \n4         3  ",
      "text/html": "<div>\n<style scoped>\n    .dataframe tbody tr th:only-of-type {\n        vertical-align: middle;\n    }\n\n    .dataframe tbody tr th {\n        vertical-align: top;\n    }\n\n    .dataframe thead th {\n        text-align: right;\n    }\n</style>\n<table border=\"1\" class=\"dataframe\">\n  <thead>\n    <tr style=\"text-align: right;\">\n      <th></th>\n      <th>session_id</th>\n      <th>experiment_id</th>\n      <th>container_id</th>\n      <th>objects</th>\n      <th>n_objects</th>\n    </tr>\n  </thead>\n  <tbody>\n    <tr>\n      <th>0</th>\n      <td>S0001</td>\n      <td>E0040</td>\n      <td>CO-01-a</td>\n      <td>[15_6, 6_8]</td>\n      <td>2</td>\n    </tr>\n    <tr>\n      <th>1</th>\n      <td>S0001</td>\n      <td>E0041</td>\n      <td>CO-01-a</td>\n      <td>[7_1, 11_2]</td>\n      <td>2</td>\n    </tr>\n    <tr>\n      <th>2</th>\n      <td>S0001</td>\n      <td>E0042</td>\n      <td>DI-01-a</td>\n      <td>[16_4, 6_5a, 3_13, 11_6, 11_14]</td>\n      <td>5</td>\n    </tr>\n    <tr>\n      <th>3</th>\n      <td>S0001</td>\n      <td>E0043</td>\n      <td>DI-01-b</td>\n      <td>[16_14, 12_4, 13_8]</td>\n      <td>3</td>\n    </tr>\n    <tr>\n      <th>4</th>\n      <td>S0001</td>\n      <td>E0044</td>\n      <td>Co-01-b</td>\n      <td>[9_1, 12_8a, 14_6]</td>\n      <td>3</td>\n    </tr>\n  </tbody>\n</table>\n</div>"
     },
     "execution_count": 22,
     "metadata": {},
     "output_type": "execute_result"
    }
   ],
   "source": [
    "# stratified sampling\n",
    "start_id = db_builder.get_next_experiment_id()\n",
    "session_id = db_builder.get_next_session_id()\n",
    "experiment_ids = helpers.get_experiment_ids(start_id, n_experiments)\n",
    "\n",
    "created_experiments = pd.DataFrame(columns=['session_id', 'experiment_id', 'container_id', 'objects', 'n_objects'])\n",
    "\n",
    "\n",
    "for i, n in enumerate(experiment_lengths):\n",
    "    ids = df_objects.sample(n=n, replace=False)['object_id'].values\n",
    "    ids = [str(a) for a in ids]\n",
    "    ids = [a.replace('.', '_') for a in ids]\n",
    "    created_experiments.loc[len(created_experiments)] = {\n",
    "        'session_id': session_id.strip(),\n",
    "        'experiment_id': experiment_ids[i].strip(),\n",
    "        'container_id': containers[i].strip(),\n",
    "        'objects': ids,\n",
    "        'n_objects': len(ids)\n",
    "    }\n",
    "\n",
    "created_experiments.head()"
   ],
   "metadata": {
    "collapsed": false,
    "ExecuteTime": {
     "start_time": "2023-05-02T14:40:59.660550Z",
     "end_time": "2023-05-02T14:40:59.714741Z"
    }
   }
  },
  {
   "cell_type": "markdown",
   "source": [
    "### Create Session"
   ],
   "metadata": {
    "collapsed": false
   }
  },
  {
   "cell_type": "code",
   "execution_count": 32,
   "outputs": [],
   "source": [
    "db_queries.put_session(session_id=session_id, n_experiments=n_experiments, note='db_test', responsible=\"Roman Studer\", start_date='', end_date='')"
   ],
   "metadata": {
    "collapsed": false,
    "ExecuteTime": {
     "start_time": "2023-05-02T14:54:04.002175Z",
     "end_time": "2023-05-02T14:54:04.012805Z"
    }
   }
  },
  {
   "cell_type": "markdown",
   "source": [
    "## Update database"
   ],
   "metadata": {
    "collapsed": false
   }
  },
  {
   "cell_type": "code",
   "execution_count": 24,
   "outputs": [],
   "source": [
    "db_queries.put_multiple_experiments(created_experiments.drop(columns=['objects']))"
   ],
   "metadata": {
    "collapsed": false,
    "ExecuteTime": {
     "start_time": "2023-05-02T14:42:11.586593Z",
     "end_time": "2023-05-02T14:42:11.617306Z"
    }
   }
  },
  {
   "cell_type": "code",
   "execution_count": 30,
   "outputs": [
    {
     "ename": "IntegrityError",
     "evalue": "UNIQUE constraint failed: experiment_objects.experiment_id, experiment_objects.object_id",
     "output_type": "error",
     "traceback": [
      "\u001B[1;31m---------------------------------------------------------------------------\u001B[0m",
      "\u001B[1;31mIntegrityError\u001B[0m                            Traceback (most recent call last)",
      "Cell \u001B[1;32mIn[30], line 3\u001B[0m\n\u001B[0;32m      1\u001B[0m \u001B[38;5;66;03m# link experiments to objects\u001B[39;00m\n\u001B[0;32m      2\u001B[0m \u001B[38;5;28;01mfor\u001B[39;00m idx, row \u001B[38;5;129;01min\u001B[39;00m created_experiments\u001B[38;5;241m.\u001B[39miterrows():\n\u001B[1;32m----> 3\u001B[0m     \u001B[43mdb_queries\u001B[49m\u001B[38;5;241;43m.\u001B[39;49m\u001B[43mlink_experiment_objects\u001B[49m\u001B[43m(\u001B[49m\u001B[43mrow\u001B[49m\u001B[43m[\u001B[49m\u001B[38;5;124;43m'\u001B[39;49m\u001B[38;5;124;43mexperiment_id\u001B[39;49m\u001B[38;5;124;43m'\u001B[39;49m\u001B[43m]\u001B[49m\u001B[43m,\u001B[49m\u001B[43m \u001B[49m\u001B[43mrow\u001B[49m\u001B[43m[\u001B[49m\u001B[38;5;124;43m'\u001B[39;49m\u001B[38;5;124;43mobjects\u001B[39;49m\u001B[38;5;124;43m'\u001B[39;49m\u001B[43m]\u001B[49m\u001B[43m)\u001B[49m\n",
      "File \u001B[1;32m~\\OneDrive\\Anlagen\\Dokumente\\I4DS\\Biocyle\\Repository\\biocycle_tracker\\db_queries.py:248\u001B[0m, in \u001B[0;36mlink_experiment_objects\u001B[1;34m(experiment_id, objects, db_path)\u001B[0m\n\u001B[0;32m    242\u001B[0m query \u001B[38;5;241m=\u001B[39m \u001B[38;5;124mf\u001B[39m\u001B[38;5;124m'''\u001B[39m\n\u001B[0;32m    243\u001B[0m \u001B[38;5;124m        INSERT INTO experiment_objects (experiment_id, object_id)\u001B[39m\n\u001B[0;32m    244\u001B[0m \u001B[38;5;124m        VALUES (?, ?);            \u001B[39m\n\u001B[0;32m    245\u001B[0m \u001B[38;5;124m        \u001B[39m\u001B[38;5;124m'''\u001B[39m\n\u001B[0;32m    247\u001B[0m con \u001B[38;5;241m=\u001B[39m db_builder\u001B[38;5;241m.\u001B[39mget_db_connection(db_path)\n\u001B[1;32m--> 248\u001B[0m \u001B[43mcon\u001B[49m\u001B[38;5;241;43m.\u001B[39;49m\u001B[43mexecutemany\u001B[49m\u001B[43m(\u001B[49m\u001B[43mquery\u001B[49m\u001B[43m,\u001B[49m\u001B[43m \u001B[49m\u001B[43m[\u001B[49m\u001B[43m(\u001B[49m\u001B[43mexperiment_id\u001B[49m\u001B[43m,\u001B[49m\u001B[43m \u001B[49m\u001B[43mobject_id\u001B[49m\u001B[43m)\u001B[49m\u001B[43m \u001B[49m\u001B[38;5;28;43;01mfor\u001B[39;49;00m\u001B[43m \u001B[49m\u001B[43mobject_id\u001B[49m\u001B[43m \u001B[49m\u001B[38;5;129;43;01min\u001B[39;49;00m\u001B[43m \u001B[49m\u001B[43mobjects\u001B[49m\u001B[43m]\u001B[49m\u001B[43m)\u001B[49m\n\u001B[0;32m    249\u001B[0m con\u001B[38;5;241m.\u001B[39mcommit()\n\u001B[0;32m    250\u001B[0m con\u001B[38;5;241m.\u001B[39mclose()\n",
      "\u001B[1;31mIntegrityError\u001B[0m: UNIQUE constraint failed: experiment_objects.experiment_id, experiment_objects.object_id"
     ]
    }
   ],
   "source": [
    "# link experiments to objects\n",
    "for idx, row in created_experiments.iterrows():\n",
    "    db_queries.link_experiment_objects(row['experiment_id'], row['objects'])"
   ],
   "metadata": {
    "collapsed": false,
    "ExecuteTime": {
     "start_time": "2023-05-02T14:45:07.473290Z",
     "end_time": "2023-05-02T14:45:07.528535Z"
    }
   }
  },
  {
   "cell_type": "code",
   "execution_count": 29,
   "outputs": [
    {
     "data": {
      "text/plain": "  experiment_id object_id\n0         E0044       9_1\n1         E0044      14_6\n2         E0044     12_8a\n3         E0043     16_14\n4         E0043      13_8\n5         E0043      12_4\n6         E0042      6_5a\n7         E0042      3_13\n8         E0042      16_4\n9         E0042      11_6",
      "text/html": "<div>\n<style scoped>\n    .dataframe tbody tr th:only-of-type {\n        vertical-align: middle;\n    }\n\n    .dataframe tbody tr th {\n        vertical-align: top;\n    }\n\n    .dataframe thead th {\n        text-align: right;\n    }\n</style>\n<table border=\"1\" class=\"dataframe\">\n  <thead>\n    <tr style=\"text-align: right;\">\n      <th></th>\n      <th>experiment_id</th>\n      <th>object_id</th>\n    </tr>\n  </thead>\n  <tbody>\n    <tr>\n      <th>0</th>\n      <td>E0044</td>\n      <td>9_1</td>\n    </tr>\n    <tr>\n      <th>1</th>\n      <td>E0044</td>\n      <td>14_6</td>\n    </tr>\n    <tr>\n      <th>2</th>\n      <td>E0044</td>\n      <td>12_8a</td>\n    </tr>\n    <tr>\n      <th>3</th>\n      <td>E0043</td>\n      <td>16_14</td>\n    </tr>\n    <tr>\n      <th>4</th>\n      <td>E0043</td>\n      <td>13_8</td>\n    </tr>\n    <tr>\n      <th>5</th>\n      <td>E0043</td>\n      <td>12_4</td>\n    </tr>\n    <tr>\n      <th>6</th>\n      <td>E0042</td>\n      <td>6_5a</td>\n    </tr>\n    <tr>\n      <th>7</th>\n      <td>E0042</td>\n      <td>3_13</td>\n    </tr>\n    <tr>\n      <th>8</th>\n      <td>E0042</td>\n      <td>16_4</td>\n    </tr>\n    <tr>\n      <th>9</th>\n      <td>E0042</td>\n      <td>11_6</td>\n    </tr>\n  </tbody>\n</table>\n</div>"
     },
     "execution_count": 29,
     "metadata": {},
     "output_type": "execute_result"
    }
   ],
   "source": [
    "db_queries.run_query(\"SELECT * FROM experiment_objects ORDER BY experiment_id DESC LIMIT 10\")"
   ],
   "metadata": {
    "collapsed": false,
    "ExecuteTime": {
     "start_time": "2023-05-02T14:46:23.780689Z",
     "end_time": "2023-05-02T14:46:23.812432Z"
    }
   }
  }
 ],
 "metadata": {
  "kernelspec": {
   "display_name": "Python 3",
   "language": "python",
   "name": "python3"
  },
  "language_info": {
   "codemirror_mode": {
    "name": "ipython",
    "version": 2
   },
   "file_extension": ".py",
   "mimetype": "text/x-python",
   "name": "python",
   "nbconvert_exporter": "python",
   "pygments_lexer": "ipython2",
   "version": "2.7.6"
  }
 },
 "nbformat": 4,
 "nbformat_minor": 0
}
