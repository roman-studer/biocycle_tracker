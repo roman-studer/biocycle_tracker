{
 "cells": [
  {
   "cell_type": "markdown",
   "source": [
    "# Create a set of experiments\n",
    "\n",
    "This notebook allows to create a set of experiments. In the cell below, the configuration can be changed. The following steps are performed:\n",
    "1. load all objects from the database (including polymer_type)\n",
    "2. load all containers from the database\n",
    "3. filter objects either by \"included_types\" and/or \"non_usable_types\" (see configuration)\n",
    "4. stratified sampling of objects based on polymer_type\n",
    "5. create a set of experiments with a random number of objects per experiment (see configuration, based on the scipy.stats distribution and its parameters)\n",
    "6. create a set of containers (randomly sampled from the containers in the database)\n",
    "7. write experiments to database\n",
    "8. write a set of json instruction files to data folder"
   ],
   "metadata": {
    "collapsed": false
   }
  },
  {
   "cell_type": "markdown",
   "source": [
    "## Imports and Configuration"
   ],
   "metadata": {
    "collapsed": false
   }
  },
  {
   "cell_type": "code",
   "execution_count": 244,
   "outputs": [],
   "source": [
    "import numpy as np\n",
    "import pandas as pd\n",
    "import db_queries\n",
    "import db_builder\n",
    "import create_experiments_helpers as helpers"
   ],
   "metadata": {
    "collapsed": false,
    "ExecuteTime": {
     "end_time": "2023-07-27T14:13:29.505778100Z",
     "start_time": "2023-07-27T14:13:29.468883Z"
    }
   }
  },
  {
   "cell_type": "code",
   "execution_count": 245,
   "outputs": [],
   "source": [
    "# configuration\n",
    "session_name: str = db_builder.get_next_session_id()\n",
    "min_length: int = 2 # min number of foreign objects per experiment\n",
    "max_length: int = 5 # max number of foreign objects per experiment\n",
    "n_experiments: int = 10 # number of experiments to create\n",
    "random_state: int = int(session_name[-2:]) * 10 # random state for reproducibility\n",
    "distribution_name: str = 'alpha' # distribution of length of experiment, choose any scipy.stats distribution\n",
    "distribution_params: dict = {'a': 4} # parameters of distribution\n",
    "non_usable_types: list = ['no sample', 'unclear'] # types that are not usable for experiments\n",
    "included_types: list = None # ['pe-hd','pe-ld','pp','pet'] # if not None, only these types are included in experiments\n",
    "\n",
    "target_name: str = 'type' # name of target column, stratified sampling is based on this column"
   ],
   "metadata": {
    "collapsed": false,
    "ExecuteTime": {
     "end_time": "2023-07-27T14:13:29.562273300Z",
     "start_time": "2023-07-27T14:13:29.480760100Z"
    }
   }
  },
  {
   "cell_type": "markdown",
   "source": [
    "## Load objects and containers"
   ],
   "metadata": {
    "collapsed": false
   }
  },
  {
   "cell_type": "code",
   "execution_count": 246,
   "outputs": [],
   "source": [
    "# load excel, additional sheets if needed are containers and description (with column_name description)\n",
    "con = db_builder.get_db_connection()\n",
    "\n",
    "df_objects = pd.read_sql(\"SELECT * FROM objects WHERE reference_image == True\", con)\n",
    "df_containers = pd.read_sql(\"SELECT * FROM containers\", con)"
   ],
   "metadata": {
    "collapsed": false,
    "ExecuteTime": {
     "end_time": "2023-07-27T14:13:29.563279Z",
     "start_time": "2023-07-27T14:13:29.499759300Z"
    }
   }
  },
  {
   "cell_type": "code",
   "execution_count": 247,
   "outputs": [
    {
     "data": {
      "text/plain": "  object_id polymer_type  length texture stiffness  color contamination  \\\n0       1.1           pe    33.0   rough      soft   gray         dirty   \n1       1.2    cellophan    12.0   rough      soft   gray         dirty   \n2       1.3           pp    10.0   rough      soft  white         dirty   \n3       1.4           pe    20.0   rough      soft  white         clean   \n4       1.5           pp    25.0   rough      soft  white         clean   \n\n    form                 note reference_image  \n0   foil                 None               1  \n1   None  60% Übereinstimmung               1  \n2   foil                 None               1  \n3  fiber          Dünne Faser               1  \n4  fiber          Dünne Faser               1  ",
      "text/html": "<div>\n<style scoped>\n    .dataframe tbody tr th:only-of-type {\n        vertical-align: middle;\n    }\n\n    .dataframe tbody tr th {\n        vertical-align: top;\n    }\n\n    .dataframe thead th {\n        text-align: right;\n    }\n</style>\n<table border=\"1\" class=\"dataframe\">\n  <thead>\n    <tr style=\"text-align: right;\">\n      <th></th>\n      <th>object_id</th>\n      <th>polymer_type</th>\n      <th>length</th>\n      <th>texture</th>\n      <th>stiffness</th>\n      <th>color</th>\n      <th>contamination</th>\n      <th>form</th>\n      <th>note</th>\n      <th>reference_image</th>\n    </tr>\n  </thead>\n  <tbody>\n    <tr>\n      <th>0</th>\n      <td>1.1</td>\n      <td>pe</td>\n      <td>33.0</td>\n      <td>rough</td>\n      <td>soft</td>\n      <td>gray</td>\n      <td>dirty</td>\n      <td>foil</td>\n      <td>None</td>\n      <td>1</td>\n    </tr>\n    <tr>\n      <th>1</th>\n      <td>1.2</td>\n      <td>cellophan</td>\n      <td>12.0</td>\n      <td>rough</td>\n      <td>soft</td>\n      <td>gray</td>\n      <td>dirty</td>\n      <td>None</td>\n      <td>60% Übereinstimmung</td>\n      <td>1</td>\n    </tr>\n    <tr>\n      <th>2</th>\n      <td>1.3</td>\n      <td>pp</td>\n      <td>10.0</td>\n      <td>rough</td>\n      <td>soft</td>\n      <td>white</td>\n      <td>dirty</td>\n      <td>foil</td>\n      <td>None</td>\n      <td>1</td>\n    </tr>\n    <tr>\n      <th>3</th>\n      <td>1.4</td>\n      <td>pe</td>\n      <td>20.0</td>\n      <td>rough</td>\n      <td>soft</td>\n      <td>white</td>\n      <td>clean</td>\n      <td>fiber</td>\n      <td>Dünne Faser</td>\n      <td>1</td>\n    </tr>\n    <tr>\n      <th>4</th>\n      <td>1.5</td>\n      <td>pp</td>\n      <td>25.0</td>\n      <td>rough</td>\n      <td>soft</td>\n      <td>white</td>\n      <td>clean</td>\n      <td>fiber</td>\n      <td>Dünne Faser</td>\n      <td>1</td>\n    </tr>\n  </tbody>\n</table>\n</div>"
     },
     "execution_count": 247,
     "metadata": {},
     "output_type": "execute_result"
    }
   ],
   "source": [
    "df_objects.head()"
   ],
   "metadata": {
    "collapsed": false,
    "ExecuteTime": {
     "end_time": "2023-07-27T14:13:29.563279Z",
     "start_time": "2023-07-27T14:13:29.514760100Z"
    }
   }
  },
  {
   "cell_type": "code",
   "execution_count": 248,
   "outputs": [
    {
     "data": {
      "text/plain": "  material_type container_id company location  date  note\n0       compost      CO-01-a    None     None  None  None\n1       compost      Co-01-b    None     None  None  None\n2       compost      CO-01-c    None     None  None  None\n3     digestive      DI-01-a    None     None  None  None\n4     digestive      DI-01-b    None     None  None  None",
      "text/html": "<div>\n<style scoped>\n    .dataframe tbody tr th:only-of-type {\n        vertical-align: middle;\n    }\n\n    .dataframe tbody tr th {\n        vertical-align: top;\n    }\n\n    .dataframe thead th {\n        text-align: right;\n    }\n</style>\n<table border=\"1\" class=\"dataframe\">\n  <thead>\n    <tr style=\"text-align: right;\">\n      <th></th>\n      <th>material_type</th>\n      <th>container_id</th>\n      <th>company</th>\n      <th>location</th>\n      <th>date</th>\n      <th>note</th>\n    </tr>\n  </thead>\n  <tbody>\n    <tr>\n      <th>0</th>\n      <td>compost</td>\n      <td>CO-01-a</td>\n      <td>None</td>\n      <td>None</td>\n      <td>None</td>\n      <td>None</td>\n    </tr>\n    <tr>\n      <th>1</th>\n      <td>compost</td>\n      <td>Co-01-b</td>\n      <td>None</td>\n      <td>None</td>\n      <td>None</td>\n      <td>None</td>\n    </tr>\n    <tr>\n      <th>2</th>\n      <td>compost</td>\n      <td>CO-01-c</td>\n      <td>None</td>\n      <td>None</td>\n      <td>None</td>\n      <td>None</td>\n    </tr>\n    <tr>\n      <th>3</th>\n      <td>digestive</td>\n      <td>DI-01-a</td>\n      <td>None</td>\n      <td>None</td>\n      <td>None</td>\n      <td>None</td>\n    </tr>\n    <tr>\n      <th>4</th>\n      <td>digestive</td>\n      <td>DI-01-b</td>\n      <td>None</td>\n      <td>None</td>\n      <td>None</td>\n      <td>None</td>\n    </tr>\n  </tbody>\n</table>\n</div>"
     },
     "execution_count": 248,
     "metadata": {},
     "output_type": "execute_result"
    }
   ],
   "source": [
    "df_containers.head()"
   ],
   "metadata": {
    "collapsed": false,
    "ExecuteTime": {
     "end_time": "2023-07-27T14:13:29.564279700Z",
     "start_time": "2023-07-27T14:13:29.532761400Z"
    }
   }
  },
  {
   "cell_type": "markdown",
   "source": [
    "## Pre-Processing of objects"
   ],
   "metadata": {
    "collapsed": false
   }
  },
  {
   "cell_type": "code",
   "execution_count": 249,
   "outputs": [],
   "source": [
    "df_objects = df_objects[['object_id', 'polymer_type']]"
   ],
   "metadata": {
    "collapsed": false,
    "ExecuteTime": {
     "end_time": "2023-07-27T14:13:29.564279700Z",
     "start_time": "2023-07-27T14:13:29.545760300Z"
    }
   }
  },
  {
   "cell_type": "code",
   "execution_count": 250,
   "outputs": [],
   "source": [
    "# drop rows with unsuitable type\n",
    "df_objects = df_objects[~df_objects['polymer_type'].isin(non_usable_types)]"
   ],
   "metadata": {
    "collapsed": false,
    "ExecuteTime": {
     "end_time": "2023-07-27T14:13:29.580280600Z",
     "start_time": "2023-07-27T14:13:29.562273300Z"
    }
   }
  },
  {
   "cell_type": "code",
   "execution_count": 251,
   "outputs": [],
   "source": [
    "# filter objects\n",
    "if included_types is not None:\n",
    "    df_objects = df_objects[df_objects['polymer_type'].isin(included_types)]"
   ],
   "metadata": {
    "collapsed": false,
    "ExecuteTime": {
     "end_time": "2023-07-27T14:13:29.612279700Z",
     "start_time": "2023-07-27T14:13:29.579280100Z"
    }
   }
  },
  {
   "cell_type": "markdown",
   "source": [
    "## Stratified sampling"
   ],
   "metadata": {
    "collapsed": false
   }
  },
  {
   "cell_type": "code",
   "execution_count": 252,
   "outputs": [],
   "source": [
    "distribution = helpers.load_scipy_distribution_by_name(distribution_name, distribution_params)\n",
    "n_objects = distribution.rvs(n_experiments)"
   ],
   "metadata": {
    "collapsed": false,
    "ExecuteTime": {
     "end_time": "2023-07-27T14:13:29.670147300Z",
     "start_time": "2023-07-27T14:13:29.595282800Z"
    }
   }
  },
  {
   "cell_type": "code",
   "execution_count": 253,
   "outputs": [],
   "source": [
    "experiment_lengths = helpers.get_experiment_lengths(distribution, n_experiments, min_length, max_length)"
   ],
   "metadata": {
    "collapsed": false,
    "ExecuteTime": {
     "end_time": "2023-07-27T14:13:29.697059300Z",
     "start_time": "2023-07-27T14:13:29.609281900Z"
    }
   }
  },
  {
   "cell_type": "code",
   "execution_count": 254,
   "outputs": [],
   "source": [
    "containers = df_containers.sample(n=n_experiments, replace=True, random_state=random_state)['container_id'].values"
   ],
   "metadata": {
    "collapsed": false,
    "ExecuteTime": {
     "end_time": "2023-07-27T14:13:29.758046700Z",
     "start_time": "2023-07-27T14:13:29.627280600Z"
    }
   }
  },
  {
   "cell_type": "code",
   "execution_count": 255,
   "outputs": [],
   "source": [
    "containers = np.array(['CO-06', 'DI-07', 'DI-05', 'DI-11', 'CO-03', 'CO-04']).T\n",
    "containers = np.random.choice(containers, size=n_experiments, replace=True)"
   ],
   "metadata": {
    "collapsed": false,
    "ExecuteTime": {
     "end_time": "2023-07-27T14:13:29.774586300Z",
     "start_time": "2023-07-27T14:13:29.643281600Z"
    }
   }
  },
  {
   "cell_type": "markdown",
   "source": [
    "## Create experiments"
   ],
   "metadata": {
    "collapsed": false
   }
  },
  {
   "cell_type": "code",
   "execution_count": 256,
   "outputs": [
    {
     "data": {
      "text/plain": "  session_id experiment_id container_id                         objects  \\\n0      S0040         E0440        CO-04                   [3_10, 11_15]   \n1      S0040         E0441        CO-04                     [2_2, 13_8]   \n2      S0040         E0442        CO-04                [8_6, 4_6, 13_4]   \n3      S0040         E0443        DI-11  [7_15, 13_10, 4_10, 7_14, 7_5]   \n4      S0040         E0444        CO-04                    [4_9, 11_15]   \n\n  n_objects  \n0         2  \n1         2  \n2         3  \n3         5  \n4         2  ",
      "text/html": "<div>\n<style scoped>\n    .dataframe tbody tr th:only-of-type {\n        vertical-align: middle;\n    }\n\n    .dataframe tbody tr th {\n        vertical-align: top;\n    }\n\n    .dataframe thead th {\n        text-align: right;\n    }\n</style>\n<table border=\"1\" class=\"dataframe\">\n  <thead>\n    <tr style=\"text-align: right;\">\n      <th></th>\n      <th>session_id</th>\n      <th>experiment_id</th>\n      <th>container_id</th>\n      <th>objects</th>\n      <th>n_objects</th>\n    </tr>\n  </thead>\n  <tbody>\n    <tr>\n      <th>0</th>\n      <td>S0040</td>\n      <td>E0440</td>\n      <td>CO-04</td>\n      <td>[3_10, 11_15]</td>\n      <td>2</td>\n    </tr>\n    <tr>\n      <th>1</th>\n      <td>S0040</td>\n      <td>E0441</td>\n      <td>CO-04</td>\n      <td>[2_2, 13_8]</td>\n      <td>2</td>\n    </tr>\n    <tr>\n      <th>2</th>\n      <td>S0040</td>\n      <td>E0442</td>\n      <td>CO-04</td>\n      <td>[8_6, 4_6, 13_4]</td>\n      <td>3</td>\n    </tr>\n    <tr>\n      <th>3</th>\n      <td>S0040</td>\n      <td>E0443</td>\n      <td>DI-11</td>\n      <td>[7_15, 13_10, 4_10, 7_14, 7_5]</td>\n      <td>5</td>\n    </tr>\n    <tr>\n      <th>4</th>\n      <td>S0040</td>\n      <td>E0444</td>\n      <td>CO-04</td>\n      <td>[4_9, 11_15]</td>\n      <td>2</td>\n    </tr>\n  </tbody>\n</table>\n</div>"
     },
     "execution_count": 256,
     "metadata": {},
     "output_type": "execute_result"
    }
   ],
   "source": [
    "# stratified sampling\n",
    "start_id = db_builder.get_next_experiment_id()\n",
    "session_id = session_name\n",
    "experiment_ids = helpers.get_experiment_ids(start_id, n_experiments)\n",
    "\n",
    "created_experiments = pd.DataFrame(columns=['session_id', 'experiment_id', 'container_id', 'objects', 'n_objects'])\n",
    "\n",
    "\n",
    "for i, n in enumerate(experiment_lengths):\n",
    "    ids = df_objects.sample(n=n, replace=False, random_state=random_state)['object_id'].values\n",
    "    ids = [str(a) for a in ids]\n",
    "    ids = [a.replace('.', '_') for a in ids]\n",
    "    created_experiments.loc[len(created_experiments)] = {\n",
    "        'session_id': session_id.strip(),\n",
    "        'experiment_id': experiment_ids[i].strip(),\n",
    "        'container_id': containers[i].strip(),\n",
    "        'objects': ids,\n",
    "        'n_objects': len(ids)\n",
    "    }\n",
    "\n",
    "    random_state += 1\n",
    "\n",
    "created_experiments.head()"
   ],
   "metadata": {
    "collapsed": false,
    "ExecuteTime": {
     "end_time": "2023-07-27T14:13:29.775585500Z",
     "start_time": "2023-07-27T14:13:29.670147300Z"
    }
   }
  },
  {
   "cell_type": "markdown",
   "source": [
    "### Create Session"
   ],
   "metadata": {
    "collapsed": false
   }
  },
  {
   "cell_type": "code",
   "execution_count": 257,
   "outputs": [],
   "source": [
    "db_queries.put_session(session_id=session_id, n_experiments=n_experiments, note='testing sample software', responsible=\"Silvan Rehm\", start_date='2023-05-15 00:00:00', end_date='2023-05-15 00:00:00')"
   ],
   "metadata": {
    "collapsed": false,
    "ExecuteTime": {
     "end_time": "2023-07-27T14:13:29.775585500Z",
     "start_time": "2023-07-27T14:13:29.707041100Z"
    }
   }
  },
  {
   "cell_type": "markdown",
   "source": [
    "## Update database"
   ],
   "metadata": {
    "collapsed": false
   }
  },
  {
   "cell_type": "code",
   "execution_count": 258,
   "outputs": [],
   "source": [
    "db_queries.put_multiple_experiments(created_experiments.drop(columns=['objects']))"
   ],
   "metadata": {
    "collapsed": false,
    "ExecuteTime": {
     "end_time": "2023-07-27T14:13:29.776585600Z",
     "start_time": "2023-07-27T14:13:29.723045Z"
    }
   }
  },
  {
   "cell_type": "code",
   "execution_count": 259,
   "outputs": [],
   "source": [
    "# link experiments to objects\n",
    "for idx, row in created_experiments.iterrows():\n",
    "    db_queries.link_experiment_objects(row['experiment_id'], row['objects'])"
   ],
   "metadata": {
    "collapsed": false,
    "ExecuteTime": {
     "end_time": "2023-07-27T14:13:29.820571900Z",
     "start_time": "2023-07-27T14:13:29.736041800Z"
    }
   }
  },
  {
   "cell_type": "code",
   "execution_count": 260,
   "outputs": [
    {
     "data": {
      "text/plain": "  experiment_id object_id\n0         E0449      17_9\n1         E0449      13_2\n2         E0448      17_1\n3         E0448     15_10\n4         E0448     11_11\n5         E0447       9_4\n6         E0447      15_3\n7         E0446      15_1\n8         E0446      14_7\n9         E0445       9_5",
      "text/html": "<div>\n<style scoped>\n    .dataframe tbody tr th:only-of-type {\n        vertical-align: middle;\n    }\n\n    .dataframe tbody tr th {\n        vertical-align: top;\n    }\n\n    .dataframe thead th {\n        text-align: right;\n    }\n</style>\n<table border=\"1\" class=\"dataframe\">\n  <thead>\n    <tr style=\"text-align: right;\">\n      <th></th>\n      <th>experiment_id</th>\n      <th>object_id</th>\n    </tr>\n  </thead>\n  <tbody>\n    <tr>\n      <th>0</th>\n      <td>E0449</td>\n      <td>17_9</td>\n    </tr>\n    <tr>\n      <th>1</th>\n      <td>E0449</td>\n      <td>13_2</td>\n    </tr>\n    <tr>\n      <th>2</th>\n      <td>E0448</td>\n      <td>17_1</td>\n    </tr>\n    <tr>\n      <th>3</th>\n      <td>E0448</td>\n      <td>15_10</td>\n    </tr>\n    <tr>\n      <th>4</th>\n      <td>E0448</td>\n      <td>11_11</td>\n    </tr>\n    <tr>\n      <th>5</th>\n      <td>E0447</td>\n      <td>9_4</td>\n    </tr>\n    <tr>\n      <th>6</th>\n      <td>E0447</td>\n      <td>15_3</td>\n    </tr>\n    <tr>\n      <th>7</th>\n      <td>E0446</td>\n      <td>15_1</td>\n    </tr>\n    <tr>\n      <th>8</th>\n      <td>E0446</td>\n      <td>14_7</td>\n    </tr>\n    <tr>\n      <th>9</th>\n      <td>E0445</td>\n      <td>9_5</td>\n    </tr>\n  </tbody>\n</table>\n</div>"
     },
     "execution_count": 260,
     "metadata": {},
     "output_type": "execute_result"
    }
   ],
   "source": [
    "db_queries.run_query(\"SELECT * FROM experiment_objects ORDER BY experiment_id DESC LIMIT 10\")"
   ],
   "metadata": {
    "collapsed": false,
    "ExecuteTime": {
     "end_time": "2023-07-27T14:13:29.842667400Z",
     "start_time": "2023-07-27T14:13:29.783569600Z"
    }
   }
  },
  {
   "cell_type": "code",
   "execution_count": 260,
   "outputs": [],
   "source": [],
   "metadata": {
    "collapsed": false,
    "ExecuteTime": {
     "end_time": "2023-07-27T14:13:29.842667400Z",
     "start_time": "2023-07-27T14:13:29.799569700Z"
    }
   }
  }
 ],
 "metadata": {
  "kernelspec": {
   "display_name": "Python 3",
   "language": "python",
   "name": "python3"
  },
  "language_info": {
   "codemirror_mode": {
    "name": "ipython",
    "version": 2
   },
   "file_extension": ".py",
   "mimetype": "text/x-python",
   "name": "python",
   "nbconvert_exporter": "python",
   "pygments_lexer": "ipython2",
   "version": "2.7.6"
  }
 },
 "nbformat": 4,
 "nbformat_minor": 0
}
