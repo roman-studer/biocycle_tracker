{
 "cells": [
  {
   "cell_type": "markdown",
   "source": [
    "# Initial population of tracking db"
   ],
   "metadata": {
    "collapsed": false
   }
  },
  {
   "cell_type": "code",
   "execution_count": 1,
   "outputs": [],
   "source": [
    "import pandas as pd\n",
    "from ast import literal_eval\n",
    "\n",
    "import db_queries"
   ],
   "metadata": {
    "collapsed": false,
    "ExecuteTime": {
     "end_time": "2023-07-27T14:07:51.695418300Z",
     "start_time": "2023-07-27T14:07:51.195208400Z"
    }
   }
  },
  {
   "cell_type": "code",
   "execution_count": 15,
   "outputs": [
    {
     "data": {
      "text/plain": "   session_id experiment_id container_id                       objects\n0       S0000         E0000      DI_01_b                   [14_1, 2_5]\n1       S0000         E0001      CO_01_c                  [13_9, 7_12]\n2       S0000         E0002      DI_01_b                 [16_15, 3_12]\n3       S0000         E0003      DI_01_b                   [4_9, 12_4]\n4       S0000         E0004      C0_01_b                  [15_8, 7_13]\n5       S0000         E0005      CO_01_c                  [4_6, 11_15]\n6       S0000         E0006      CO_01_a                  [16_9, 14_6]\n7       S0000         E0007      DI_01_a  [12_2, 8_3, 1_3, 11_4, 5_12]\n8       S0000         E0008      C0_01_b                   [17_5, 3_5]\n9       S0000         E0009      CO_01_a                   [16_6, 8_3]\n10      S0000         E0010      CO_01_a                   [5_6, 16_4]\n11      S0000         E0011      DI_01_a                 [17_5, 13_11]\n12      S0000         E0012      C0_01_b                 [11_11, 5_11]\n13      S0000         E0013      DI_01_a                   [16_4, 1_3]\n14      S0000         E0014      CO_01_a              [16_8, 9_7, 5_4]\n15      S0000         E0015      CO_01_a              [5_1, 7_1, 7_11]\n16      S0000         E0016      CO_01_a            [16_15, 4_10, 3_9]\n17      S0000         E0017      DI_01_b              [3_5, 7_11, 5_2]\n18      S0000         E0018      CO_01_c                  [14_6, 11_3]\n19      S0000         E0019      CO_01_a                  [14_9, 7_13]\n20      S0000         E0020      CO_01_c                 [17_1, 13_5b]\n21      S0000         E0021      DI_01_a                  [13_8, 12_4]\n22      S0000         E0022      CO_01_a                  [17_6, 4_10]\n23      S0000         E0023      DI_01_a                  [17_8, 7_11]\n24      S0000         E0024      DI_01_a                  [16_10, 7_9]\n25      S0000         E0025      CO_01_c                  [13_8, 7_14]\n26      S0000         E0026      CO_01_c                  [8_9, 13_5c]\n27      S0000         E0027      DI_01_a                   [8_7, 16_1]\n28      S0000         E0028      DI_01_a           [15_10, 5_5, 11_10]\n29      S0000         E0029      CO_01_a                   [12_9, 4_2]\n30      S0000         E0030      CO_01_a             [14_6, 8_7, 11_3]\n31      S0000         E0031      C0_01_b             [5_15, 4_5, 14_8]\n32      S0000         E0032      CO_01_a                 [17_7, 16_11]\n33      S0000         E0033      CO_01_a                  [4_14, 5_13]\n34      S0000         E0034      CO_01_a           [3_15, 15_10, 11_5]\n35      S0000         E0035      CO_01_c                  [15_4, 11_4]\n36      S0000         E0036      DI_01_a             [5_12, 14_8, 5_2]\n37      S0000         E0037      CO_01_a                   [5_6, 16_1]\n38      S0000         E0038      CO_01_c                 [12_4, 16_11]\n39      S0000         E0039      DI_01_b                 [3_15, 12_8a]",
      "text/html": "<div>\n<style scoped>\n    .dataframe tbody tr th:only-of-type {\n        vertical-align: middle;\n    }\n\n    .dataframe tbody tr th {\n        vertical-align: top;\n    }\n\n    .dataframe thead th {\n        text-align: right;\n    }\n</style>\n<table border=\"1\" class=\"dataframe\">\n  <thead>\n    <tr style=\"text-align: right;\">\n      <th></th>\n      <th>session_id</th>\n      <th>experiment_id</th>\n      <th>container_id</th>\n      <th>objects</th>\n    </tr>\n  </thead>\n  <tbody>\n    <tr>\n      <th>0</th>\n      <td>S0000</td>\n      <td>E0000</td>\n      <td>DI_01_b</td>\n      <td>[14_1, 2_5]</td>\n    </tr>\n    <tr>\n      <th>1</th>\n      <td>S0000</td>\n      <td>E0001</td>\n      <td>CO_01_c</td>\n      <td>[13_9, 7_12]</td>\n    </tr>\n    <tr>\n      <th>2</th>\n      <td>S0000</td>\n      <td>E0002</td>\n      <td>DI_01_b</td>\n      <td>[16_15, 3_12]</td>\n    </tr>\n    <tr>\n      <th>3</th>\n      <td>S0000</td>\n      <td>E0003</td>\n      <td>DI_01_b</td>\n      <td>[4_9, 12_4]</td>\n    </tr>\n    <tr>\n      <th>4</th>\n      <td>S0000</td>\n      <td>E0004</td>\n      <td>C0_01_b</td>\n      <td>[15_8, 7_13]</td>\n    </tr>\n    <tr>\n      <th>5</th>\n      <td>S0000</td>\n      <td>E0005</td>\n      <td>CO_01_c</td>\n      <td>[4_6, 11_15]</td>\n    </tr>\n    <tr>\n      <th>6</th>\n      <td>S0000</td>\n      <td>E0006</td>\n      <td>CO_01_a</td>\n      <td>[16_9, 14_6]</td>\n    </tr>\n    <tr>\n      <th>7</th>\n      <td>S0000</td>\n      <td>E0007</td>\n      <td>DI_01_a</td>\n      <td>[12_2, 8_3, 1_3, 11_4, 5_12]</td>\n    </tr>\n    <tr>\n      <th>8</th>\n      <td>S0000</td>\n      <td>E0008</td>\n      <td>C0_01_b</td>\n      <td>[17_5, 3_5]</td>\n    </tr>\n    <tr>\n      <th>9</th>\n      <td>S0000</td>\n      <td>E0009</td>\n      <td>CO_01_a</td>\n      <td>[16_6, 8_3]</td>\n    </tr>\n    <tr>\n      <th>10</th>\n      <td>S0000</td>\n      <td>E0010</td>\n      <td>CO_01_a</td>\n      <td>[5_6, 16_4]</td>\n    </tr>\n    <tr>\n      <th>11</th>\n      <td>S0000</td>\n      <td>E0011</td>\n      <td>DI_01_a</td>\n      <td>[17_5, 13_11]</td>\n    </tr>\n    <tr>\n      <th>12</th>\n      <td>S0000</td>\n      <td>E0012</td>\n      <td>C0_01_b</td>\n      <td>[11_11, 5_11]</td>\n    </tr>\n    <tr>\n      <th>13</th>\n      <td>S0000</td>\n      <td>E0013</td>\n      <td>DI_01_a</td>\n      <td>[16_4, 1_3]</td>\n    </tr>\n    <tr>\n      <th>14</th>\n      <td>S0000</td>\n      <td>E0014</td>\n      <td>CO_01_a</td>\n      <td>[16_8, 9_7, 5_4]</td>\n    </tr>\n    <tr>\n      <th>15</th>\n      <td>S0000</td>\n      <td>E0015</td>\n      <td>CO_01_a</td>\n      <td>[5_1, 7_1, 7_11]</td>\n    </tr>\n    <tr>\n      <th>16</th>\n      <td>S0000</td>\n      <td>E0016</td>\n      <td>CO_01_a</td>\n      <td>[16_15, 4_10, 3_9]</td>\n    </tr>\n    <tr>\n      <th>17</th>\n      <td>S0000</td>\n      <td>E0017</td>\n      <td>DI_01_b</td>\n      <td>[3_5, 7_11, 5_2]</td>\n    </tr>\n    <tr>\n      <th>18</th>\n      <td>S0000</td>\n      <td>E0018</td>\n      <td>CO_01_c</td>\n      <td>[14_6, 11_3]</td>\n    </tr>\n    <tr>\n      <th>19</th>\n      <td>S0000</td>\n      <td>E0019</td>\n      <td>CO_01_a</td>\n      <td>[14_9, 7_13]</td>\n    </tr>\n    <tr>\n      <th>20</th>\n      <td>S0000</td>\n      <td>E0020</td>\n      <td>CO_01_c</td>\n      <td>[17_1, 13_5b]</td>\n    </tr>\n    <tr>\n      <th>21</th>\n      <td>S0000</td>\n      <td>E0021</td>\n      <td>DI_01_a</td>\n      <td>[13_8, 12_4]</td>\n    </tr>\n    <tr>\n      <th>22</th>\n      <td>S0000</td>\n      <td>E0022</td>\n      <td>CO_01_a</td>\n      <td>[17_6, 4_10]</td>\n    </tr>\n    <tr>\n      <th>23</th>\n      <td>S0000</td>\n      <td>E0023</td>\n      <td>DI_01_a</td>\n      <td>[17_8, 7_11]</td>\n    </tr>\n    <tr>\n      <th>24</th>\n      <td>S0000</td>\n      <td>E0024</td>\n      <td>DI_01_a</td>\n      <td>[16_10, 7_9]</td>\n    </tr>\n    <tr>\n      <th>25</th>\n      <td>S0000</td>\n      <td>E0025</td>\n      <td>CO_01_c</td>\n      <td>[13_8, 7_14]</td>\n    </tr>\n    <tr>\n      <th>26</th>\n      <td>S0000</td>\n      <td>E0026</td>\n      <td>CO_01_c</td>\n      <td>[8_9, 13_5c]</td>\n    </tr>\n    <tr>\n      <th>27</th>\n      <td>S0000</td>\n      <td>E0027</td>\n      <td>DI_01_a</td>\n      <td>[8_7, 16_1]</td>\n    </tr>\n    <tr>\n      <th>28</th>\n      <td>S0000</td>\n      <td>E0028</td>\n      <td>DI_01_a</td>\n      <td>[15_10, 5_5, 11_10]</td>\n    </tr>\n    <tr>\n      <th>29</th>\n      <td>S0000</td>\n      <td>E0029</td>\n      <td>CO_01_a</td>\n      <td>[12_9, 4_2]</td>\n    </tr>\n    <tr>\n      <th>30</th>\n      <td>S0000</td>\n      <td>E0030</td>\n      <td>CO_01_a</td>\n      <td>[14_6, 8_7, 11_3]</td>\n    </tr>\n    <tr>\n      <th>31</th>\n      <td>S0000</td>\n      <td>E0031</td>\n      <td>C0_01_b</td>\n      <td>[5_15, 4_5, 14_8]</td>\n    </tr>\n    <tr>\n      <th>32</th>\n      <td>S0000</td>\n      <td>E0032</td>\n      <td>CO_01_a</td>\n      <td>[17_7, 16_11]</td>\n    </tr>\n    <tr>\n      <th>33</th>\n      <td>S0000</td>\n      <td>E0033</td>\n      <td>CO_01_a</td>\n      <td>[4_14, 5_13]</td>\n    </tr>\n    <tr>\n      <th>34</th>\n      <td>S0000</td>\n      <td>E0034</td>\n      <td>CO_01_a</td>\n      <td>[3_15, 15_10, 11_5]</td>\n    </tr>\n    <tr>\n      <th>35</th>\n      <td>S0000</td>\n      <td>E0035</td>\n      <td>CO_01_c</td>\n      <td>[15_4, 11_4]</td>\n    </tr>\n    <tr>\n      <th>36</th>\n      <td>S0000</td>\n      <td>E0036</td>\n      <td>DI_01_a</td>\n      <td>[5_12, 14_8, 5_2]</td>\n    </tr>\n    <tr>\n      <th>37</th>\n      <td>S0000</td>\n      <td>E0037</td>\n      <td>CO_01_a</td>\n      <td>[5_6, 16_1]</td>\n    </tr>\n    <tr>\n      <th>38</th>\n      <td>S0000</td>\n      <td>E0038</td>\n      <td>CO_01_c</td>\n      <td>[12_4, 16_11]</td>\n    </tr>\n    <tr>\n      <th>39</th>\n      <td>S0000</td>\n      <td>E0039</td>\n      <td>DI_01_b</td>\n      <td>[3_15, 12_8a]</td>\n    </tr>\n  </tbody>\n</table>\n</div>"
     },
     "execution_count": 15,
     "metadata": {},
     "output_type": "execute_result"
    }
   ],
   "source": [
    "# Load experiments\n",
    "df_experiments = pd.read_csv('./data/experiments_session01.csv', header=None, sep=';', names=['session_id','experiment_id', 'container_id', 'objects'])\n",
    "df_experiments['objects'] = df_experiments['objects'].apply(literal_eval)\n",
    "df_experiments['experiment_id'] = df_experiments['experiment_id'].str.strip()\n",
    "df_experiments['container_id'] = df_experiments['container_id'].str.strip()\n",
    "df_experiments"
   ],
   "metadata": {
    "collapsed": false,
    "ExecuteTime": {
     "start_time": "2023-05-02T11:33:43.180440Z",
     "end_time": "2023-05-02T11:33:43.225696Z"
    }
   }
  },
  {
   "cell_type": "code",
   "execution_count": 16,
   "outputs": [],
   "source": [
    "df_experiment_objects = df_experiments[['experiment_id', 'objects']]"
   ],
   "metadata": {
    "collapsed": false,
    "ExecuteTime": {
     "start_time": "2023-05-02T11:33:43.918003Z",
     "end_time": "2023-05-02T11:33:43.941563Z"
    }
   }
  },
  {
   "cell_type": "markdown",
   "source": [
    "## Add a session"
   ],
   "metadata": {
    "collapsed": false
   }
  },
  {
   "cell_type": "code",
   "execution_count": 4,
   "outputs": [
    {
     "data": {
      "text/plain": "Empty DataFrame\nColumns: [note, n_experiments, responsible, start_date, end_date, session_id]\nIndex: []",
      "text/html": "<div>\n<style scoped>\n    .dataframe tbody tr th:only-of-type {\n        vertical-align: middle;\n    }\n\n    .dataframe tbody tr th {\n        vertical-align: top;\n    }\n\n    .dataframe thead th {\n        text-align: right;\n    }\n</style>\n<table border=\"1\" class=\"dataframe\">\n  <thead>\n    <tr style=\"text-align: right;\">\n      <th></th>\n      <th>note</th>\n      <th>n_experiments</th>\n      <th>responsible</th>\n      <th>start_date</th>\n      <th>end_date</th>\n      <th>session_id</th>\n    </tr>\n  </thead>\n  <tbody>\n  </tbody>\n</table>\n</div>"
     },
     "execution_count": 4,
     "metadata": {},
     "output_type": "execute_result"
    }
   ],
   "source": [
    "# current sessions\n",
    "db_queries.run_query('SELECT * FROM sessions')"
   ],
   "metadata": {
    "collapsed": false,
    "ExecuteTime": {
     "start_time": "2023-04-28T17:25:29.862976Z",
     "end_time": "2023-04-28T17:25:29.877489Z"
    }
   }
  },
  {
   "cell_type": "code",
   "execution_count": 6,
   "outputs": [],
   "source": [
    "# add session to db\n",
    "db_queries.put_session(session_id = 'S0000', # automatically generated if None\n",
    "                       n_experiments = len(df_experiments),\n",
    "                       responsible= 'Roman Studer',\n",
    "                       note= 'Initial test session. Goal is to test capture software on final setup',\n",
    "                       start_date = '2023-05-04 00:00:00',\n",
    "                       end_date = '2023-05-04 23:59:59')"
   ],
   "metadata": {
    "collapsed": false,
    "ExecuteTime": {
     "start_time": "2023-04-28T17:26:42.873749Z",
     "end_time": "2023-04-28T17:26:42.905780Z"
    }
   }
  },
  {
   "cell_type": "code",
   "execution_count": 7,
   "outputs": [
    {
     "data": {
      "text/plain": "                                                note  n_experiments  \\\n0  Initial test session. Goal is to test capture ...             40   \n\n    responsible           start_date             end_date session_id  \n0  Roman Studer  2023-05-04 00:00:00  2023-05-04 23:59:59      S0000  ",
      "text/html": "<div>\n<style scoped>\n    .dataframe tbody tr th:only-of-type {\n        vertical-align: middle;\n    }\n\n    .dataframe tbody tr th {\n        vertical-align: top;\n    }\n\n    .dataframe thead th {\n        text-align: right;\n    }\n</style>\n<table border=\"1\" class=\"dataframe\">\n  <thead>\n    <tr style=\"text-align: right;\">\n      <th></th>\n      <th>note</th>\n      <th>n_experiments</th>\n      <th>responsible</th>\n      <th>start_date</th>\n      <th>end_date</th>\n      <th>session_id</th>\n    </tr>\n  </thead>\n  <tbody>\n    <tr>\n      <th>0</th>\n      <td>Initial test session. Goal is to test capture ...</td>\n      <td>40</td>\n      <td>Roman Studer</td>\n      <td>2023-05-04 00:00:00</td>\n      <td>2023-05-04 23:59:59</td>\n      <td>S0000</td>\n    </tr>\n  </tbody>\n</table>\n</div>"
     },
     "execution_count": 7,
     "metadata": {},
     "output_type": "execute_result"
    }
   ],
   "source": [
    "# current sessions\n",
    "db_queries.run_query('SELECT * FROM sessions')"
   ],
   "metadata": {
    "collapsed": false,
    "ExecuteTime": {
     "start_time": "2023-04-28T17:26:57.011837Z",
     "end_time": "2023-04-28T17:26:57.290063Z"
    }
   }
  },
  {
   "cell_type": "markdown",
   "source": [
    "## Add containers"
   ],
   "metadata": {
    "collapsed": false
   }
  },
  {
   "cell_type": "code",
   "execution_count": 2,
   "outputs": [
    {
     "data": {
      "text/plain": "  container_id material_type company location  note  date\n0        CO-06       compost    None     None  None  None\n1        DI-07     digestive    None     None  None  None\n2        DI-05     digestive    None     None  None  None\n3        DI-11     digestive    None     None  None  None\n4        CO-03       compost    None     None  None  None\n5        CO-04       compost    None     None  None  None",
      "text/html": "<div>\n<style scoped>\n    .dataframe tbody tr th:only-of-type {\n        vertical-align: middle;\n    }\n\n    .dataframe tbody tr th {\n        vertical-align: top;\n    }\n\n    .dataframe thead th {\n        text-align: right;\n    }\n</style>\n<table border=\"1\" class=\"dataframe\">\n  <thead>\n    <tr style=\"text-align: right;\">\n      <th></th>\n      <th>container_id</th>\n      <th>material_type</th>\n      <th>company</th>\n      <th>location</th>\n      <th>note</th>\n      <th>date</th>\n    </tr>\n  </thead>\n  <tbody>\n    <tr>\n      <th>0</th>\n      <td>CO-06</td>\n      <td>compost</td>\n      <td>None</td>\n      <td>None</td>\n      <td>None</td>\n      <td>None</td>\n    </tr>\n    <tr>\n      <th>1</th>\n      <td>DI-07</td>\n      <td>digestive</td>\n      <td>None</td>\n      <td>None</td>\n      <td>None</td>\n      <td>None</td>\n    </tr>\n    <tr>\n      <th>2</th>\n      <td>DI-05</td>\n      <td>digestive</td>\n      <td>None</td>\n      <td>None</td>\n      <td>None</td>\n      <td>None</td>\n    </tr>\n    <tr>\n      <th>3</th>\n      <td>DI-11</td>\n      <td>digestive</td>\n      <td>None</td>\n      <td>None</td>\n      <td>None</td>\n      <td>None</td>\n    </tr>\n    <tr>\n      <th>4</th>\n      <td>CO-03</td>\n      <td>compost</td>\n      <td>None</td>\n      <td>None</td>\n      <td>None</td>\n      <td>None</td>\n    </tr>\n    <tr>\n      <th>5</th>\n      <td>CO-04</td>\n      <td>compost</td>\n      <td>None</td>\n      <td>None</td>\n      <td>None</td>\n      <td>None</td>\n    </tr>\n  </tbody>\n</table>\n</div>"
     },
     "execution_count": 2,
     "metadata": {},
     "output_type": "execute_result"
    }
   ],
   "source": [
    "df_containers = pd.DataFrame({'container_id': ['CO-06', 'DI-07', 'DI-05', 'DI-11', 'CO-03', 'CO-04'],\n",
    "                              'material_type': ['compost', 'digestive', 'digestive', 'digestive', 'compost', 'compost'],\n",
    "                              'company': [None for i in range(6)],\n",
    "                              'location': [None for j in range(6)],\n",
    "                              'note': [None for k in range(6)],\n",
    "                              'date': [None for l in range(6)]})\n",
    "\n",
    "df_containers"
   ],
   "metadata": {
    "collapsed": false,
    "ExecuteTime": {
     "end_time": "2023-07-27T14:08:01.596277200Z",
     "start_time": "2023-07-27T14:08:01.531205100Z"
    }
   }
  },
  {
   "cell_type": "code",
   "execution_count": 3,
   "outputs": [
    {
     "data": {
      "text/plain": "  material_type container_id company location  date  note\n0       compost      CO-01-a    None     None  None  None\n1       compost      Co-01-b    None     None  None  None\n2       compost      CO-01-c    None     None  None  None\n3     digestive      DI-01-a    None     None  None  None\n4     digestive      DI-01-b    None     None  None  None",
      "text/html": "<div>\n<style scoped>\n    .dataframe tbody tr th:only-of-type {\n        vertical-align: middle;\n    }\n\n    .dataframe tbody tr th {\n        vertical-align: top;\n    }\n\n    .dataframe thead th {\n        text-align: right;\n    }\n</style>\n<table border=\"1\" class=\"dataframe\">\n  <thead>\n    <tr style=\"text-align: right;\">\n      <th></th>\n      <th>material_type</th>\n      <th>container_id</th>\n      <th>company</th>\n      <th>location</th>\n      <th>date</th>\n      <th>note</th>\n    </tr>\n  </thead>\n  <tbody>\n    <tr>\n      <th>0</th>\n      <td>compost</td>\n      <td>CO-01-a</td>\n      <td>None</td>\n      <td>None</td>\n      <td>None</td>\n      <td>None</td>\n    </tr>\n    <tr>\n      <th>1</th>\n      <td>compost</td>\n      <td>Co-01-b</td>\n      <td>None</td>\n      <td>None</td>\n      <td>None</td>\n      <td>None</td>\n    </tr>\n    <tr>\n      <th>2</th>\n      <td>compost</td>\n      <td>CO-01-c</td>\n      <td>None</td>\n      <td>None</td>\n      <td>None</td>\n      <td>None</td>\n    </tr>\n    <tr>\n      <th>3</th>\n      <td>digestive</td>\n      <td>DI-01-a</td>\n      <td>None</td>\n      <td>None</td>\n      <td>None</td>\n      <td>None</td>\n    </tr>\n    <tr>\n      <th>4</th>\n      <td>digestive</td>\n      <td>DI-01-b</td>\n      <td>None</td>\n      <td>None</td>\n      <td>None</td>\n      <td>None</td>\n    </tr>\n  </tbody>\n</table>\n</div>"
     },
     "execution_count": 3,
     "metadata": {},
     "output_type": "execute_result"
    }
   ],
   "source": [
    "# current containers\n",
    "db_queries.run_query('SELECT * FROM containers')"
   ],
   "metadata": {
    "collapsed": false,
    "ExecuteTime": {
     "end_time": "2023-07-27T14:08:04.550208900Z",
     "start_time": "2023-07-27T14:08:04.512691900Z"
    }
   }
  },
  {
   "cell_type": "code",
   "execution_count": 4,
   "outputs": [],
   "source": [
    "# add containers to db\n",
    "db_queries.put_multiple_containers(df_containers)"
   ],
   "metadata": {
    "collapsed": false,
    "ExecuteTime": {
     "end_time": "2023-07-27T14:08:06.705671600Z",
     "start_time": "2023-07-27T14:08:06.675582800Z"
    }
   }
  },
  {
   "cell_type": "code",
   "execution_count": 5,
   "outputs": [
    {
     "data": {
      "text/plain": "   material_type container_id company location  date  note\n0        compost      CO-01-a    None     None  None  None\n1        compost      Co-01-b    None     None  None  None\n2        compost      CO-01-c    None     None  None  None\n3      digestive      DI-01-a    None     None  None  None\n4      digestive      DI-01-b    None     None  None  None\n5        compost        CO-06    None     None  None  None\n6      digestive        DI-07    None     None  None  None\n7      digestive        DI-05    None     None  None  None\n8      digestive        DI-11    None     None  None  None\n9        compost        CO-03    None     None  None  None\n10       compost        CO-04    None     None  None  None",
      "text/html": "<div>\n<style scoped>\n    .dataframe tbody tr th:only-of-type {\n        vertical-align: middle;\n    }\n\n    .dataframe tbody tr th {\n        vertical-align: top;\n    }\n\n    .dataframe thead th {\n        text-align: right;\n    }\n</style>\n<table border=\"1\" class=\"dataframe\">\n  <thead>\n    <tr style=\"text-align: right;\">\n      <th></th>\n      <th>material_type</th>\n      <th>container_id</th>\n      <th>company</th>\n      <th>location</th>\n      <th>date</th>\n      <th>note</th>\n    </tr>\n  </thead>\n  <tbody>\n    <tr>\n      <th>0</th>\n      <td>compost</td>\n      <td>CO-01-a</td>\n      <td>None</td>\n      <td>None</td>\n      <td>None</td>\n      <td>None</td>\n    </tr>\n    <tr>\n      <th>1</th>\n      <td>compost</td>\n      <td>Co-01-b</td>\n      <td>None</td>\n      <td>None</td>\n      <td>None</td>\n      <td>None</td>\n    </tr>\n    <tr>\n      <th>2</th>\n      <td>compost</td>\n      <td>CO-01-c</td>\n      <td>None</td>\n      <td>None</td>\n      <td>None</td>\n      <td>None</td>\n    </tr>\n    <tr>\n      <th>3</th>\n      <td>digestive</td>\n      <td>DI-01-a</td>\n      <td>None</td>\n      <td>None</td>\n      <td>None</td>\n      <td>None</td>\n    </tr>\n    <tr>\n      <th>4</th>\n      <td>digestive</td>\n      <td>DI-01-b</td>\n      <td>None</td>\n      <td>None</td>\n      <td>None</td>\n      <td>None</td>\n    </tr>\n    <tr>\n      <th>5</th>\n      <td>compost</td>\n      <td>CO-06</td>\n      <td>None</td>\n      <td>None</td>\n      <td>None</td>\n      <td>None</td>\n    </tr>\n    <tr>\n      <th>6</th>\n      <td>digestive</td>\n      <td>DI-07</td>\n      <td>None</td>\n      <td>None</td>\n      <td>None</td>\n      <td>None</td>\n    </tr>\n    <tr>\n      <th>7</th>\n      <td>digestive</td>\n      <td>DI-05</td>\n      <td>None</td>\n      <td>None</td>\n      <td>None</td>\n      <td>None</td>\n    </tr>\n    <tr>\n      <th>8</th>\n      <td>digestive</td>\n      <td>DI-11</td>\n      <td>None</td>\n      <td>None</td>\n      <td>None</td>\n      <td>None</td>\n    </tr>\n    <tr>\n      <th>9</th>\n      <td>compost</td>\n      <td>CO-03</td>\n      <td>None</td>\n      <td>None</td>\n      <td>None</td>\n      <td>None</td>\n    </tr>\n    <tr>\n      <th>10</th>\n      <td>compost</td>\n      <td>CO-04</td>\n      <td>None</td>\n      <td>None</td>\n      <td>None</td>\n      <td>None</td>\n    </tr>\n  </tbody>\n</table>\n</div>"
     },
     "execution_count": 5,
     "metadata": {},
     "output_type": "execute_result"
    }
   ],
   "source": [
    "# current containers\n",
    "db_queries.run_query('SELECT * FROM containers')"
   ],
   "metadata": {
    "collapsed": false,
    "ExecuteTime": {
     "end_time": "2023-07-27T14:08:09.048129500Z",
     "start_time": "2023-07-27T14:08:08.977963600Z"
    }
   }
  },
  {
   "cell_type": "markdown",
   "source": [
    "## Add objects"
   ],
   "metadata": {
    "collapsed": false
   }
  },
  {
   "cell_type": "code",
   "execution_count": null,
   "outputs": [],
   "source": [
    "df_objects = pd.read_excel(\"Y:\\\\05_Results\\samples\\plastic_samples_lab_clean.xlsx\", sheet_name=\"samples\", usecols=['locator', 'type', 'length', 'texture', 'stiffness', 'color', 'contamination', 'form', 'note', 'reference_image'])\n",
    "\n",
    "df_objects.rename(columns={'locator': 'object_id', 'type': 'polymer_type'}, inplace=True)\n",
    "df_objects"
   ],
   "metadata": {
    "collapsed": false,
    "ExecuteTime": {
     "start_time": "2023-04-28T17:21:33.735089Z",
     "end_time": "2023-04-28T17:21:34.347968Z"
    }
   }
  },
  {
   "cell_type": "code",
   "execution_count": null,
   "outputs": [],
   "source": [
    "df_objects.values.tolist()"
   ],
   "metadata": {
    "collapsed": false,
    "ExecuteTime": {
     "start_time": "2023-04-28T17:21:34.349970Z",
     "end_time": "2023-04-28T17:21:34.505006Z"
    }
   }
  },
  {
   "cell_type": "code",
   "execution_count": null,
   "outputs": [],
   "source": [
    "# current objects\n",
    "db_queries.run_query('SELECT * FROM objects')"
   ],
   "metadata": {
    "collapsed": false,
    "ExecuteTime": {
     "start_time": "2023-04-28T17:21:34.399543Z",
     "end_time": "2023-04-28T17:21:34.506006Z"
    }
   }
  },
  {
   "cell_type": "code",
   "execution_count": null,
   "outputs": [],
   "source": [
    "# add objects to db\n",
    "db_queries.put_multiple_objects(df_objects)"
   ],
   "metadata": {
    "collapsed": false,
    "ExecuteTime": {
     "start_time": "2023-04-28T17:21:34.494007Z",
     "end_time": "2023-04-28T17:21:34.581517Z"
    }
   }
  },
  {
   "cell_type": "code",
   "execution_count": null,
   "outputs": [],
   "source": [
    "# current objects\n",
    "db_queries.run_query('SELECT * FROM objects LIMIT 10')"
   ],
   "metadata": {
    "collapsed": false,
    "ExecuteTime": {
     "start_time": "2023-04-28T17:21:35.610480Z",
     "end_time": "2023-04-28T17:21:35.663975Z"
    }
   }
  },
  {
   "cell_type": "markdown",
   "source": [
    "## Add experiments"
   ],
   "metadata": {
    "collapsed": false
   }
  },
  {
   "cell_type": "code",
   "execution_count": 6,
   "outputs": [
    {
     "data": {
      "text/plain": "Empty DataFrame\nColumns: [experiment_id, container_id, n_objects, session_id]\nIndex: []",
      "text/html": "<div>\n<style scoped>\n    .dataframe tbody tr th:only-of-type {\n        vertical-align: middle;\n    }\n\n    .dataframe tbody tr th {\n        vertical-align: top;\n    }\n\n    .dataframe thead th {\n        text-align: right;\n    }\n</style>\n<table border=\"1\" class=\"dataframe\">\n  <thead>\n    <tr style=\"text-align: right;\">\n      <th></th>\n      <th>experiment_id</th>\n      <th>container_id</th>\n      <th>n_objects</th>\n      <th>session_id</th>\n    </tr>\n  </thead>\n  <tbody>\n  </tbody>\n</table>\n</div>"
     },
     "execution_count": 6,
     "metadata": {},
     "output_type": "execute_result"
    }
   ],
   "source": [
    "# current experiments\n",
    "db_queries.run_query('SELECT * FROM experiments')"
   ],
   "metadata": {
    "collapsed": false,
    "ExecuteTime": {
     "start_time": "2023-05-02T11:31:42.017619Z",
     "end_time": "2023-05-02T11:31:42.057240Z"
    }
   }
  },
  {
   "cell_type": "code",
   "execution_count": 7,
   "outputs": [
    {
     "data": {
      "text/plain": "   session_id experiment_id container_id  n_objects\n0       S0000         E0000      DI_01_b          2\n1       S0000         E0001      CO_01_c          2\n2       S0000         E0002      DI_01_b          2\n3       S0000         E0003      DI_01_b          2\n4       S0000         E0004      C0_01_b          2\n5       S0000         E0005      CO_01_c          2\n6       S0000         E0006      CO_01_a          2\n7       S0000         E0007      DI_01_a          5\n8       S0000         E0008      C0_01_b          2\n9       S0000         E0009      CO_01_a          2\n10      S0000         E0010      CO_01_a          2\n11      S0000         E0011      DI_01_a          2\n12      S0000         E0012      C0_01_b          2\n13      S0000         E0013      DI_01_a          2\n14      S0000         E0014      CO_01_a          3\n15      S0000         E0015      CO_01_a          3\n16      S0000         E0016      CO_01_a          3\n17      S0000         E0017      DI_01_b          3\n18      S0000         E0018      CO_01_c          2\n19      S0000         E0019      CO_01_a          2\n20      S0000         E0020      CO_01_c          2\n21      S0000         E0021      DI_01_a          2\n22      S0000         E0022      CO_01_a          2\n23      S0000         E0023      DI_01_a          2\n24      S0000         E0024      DI_01_a          2\n25      S0000         E0025      CO_01_c          2\n26      S0000         E0026      CO_01_c          2\n27      S0000         E0027      DI_01_a          2\n28      S0000         E0028      DI_01_a          3\n29      S0000         E0029      CO_01_a          2\n30      S0000         E0030      CO_01_a          3\n31      S0000         E0031      C0_01_b          3\n32      S0000         E0032      CO_01_a          2\n33      S0000         E0033      CO_01_a          2\n34      S0000         E0034      CO_01_a          3\n35      S0000         E0035      CO_01_c          2\n36      S0000         E0036      DI_01_a          3\n37      S0000         E0037      CO_01_a          2\n38      S0000         E0038      CO_01_c          2\n39      S0000         E0039      DI_01_b          2",
      "text/html": "<div>\n<style scoped>\n    .dataframe tbody tr th:only-of-type {\n        vertical-align: middle;\n    }\n\n    .dataframe tbody tr th {\n        vertical-align: top;\n    }\n\n    .dataframe thead th {\n        text-align: right;\n    }\n</style>\n<table border=\"1\" class=\"dataframe\">\n  <thead>\n    <tr style=\"text-align: right;\">\n      <th></th>\n      <th>session_id</th>\n      <th>experiment_id</th>\n      <th>container_id</th>\n      <th>n_objects</th>\n    </tr>\n  </thead>\n  <tbody>\n    <tr>\n      <th>0</th>\n      <td>S0000</td>\n      <td>E0000</td>\n      <td>DI_01_b</td>\n      <td>2</td>\n    </tr>\n    <tr>\n      <th>1</th>\n      <td>S0000</td>\n      <td>E0001</td>\n      <td>CO_01_c</td>\n      <td>2</td>\n    </tr>\n    <tr>\n      <th>2</th>\n      <td>S0000</td>\n      <td>E0002</td>\n      <td>DI_01_b</td>\n      <td>2</td>\n    </tr>\n    <tr>\n      <th>3</th>\n      <td>S0000</td>\n      <td>E0003</td>\n      <td>DI_01_b</td>\n      <td>2</td>\n    </tr>\n    <tr>\n      <th>4</th>\n      <td>S0000</td>\n      <td>E0004</td>\n      <td>C0_01_b</td>\n      <td>2</td>\n    </tr>\n    <tr>\n      <th>5</th>\n      <td>S0000</td>\n      <td>E0005</td>\n      <td>CO_01_c</td>\n      <td>2</td>\n    </tr>\n    <tr>\n      <th>6</th>\n      <td>S0000</td>\n      <td>E0006</td>\n      <td>CO_01_a</td>\n      <td>2</td>\n    </tr>\n    <tr>\n      <th>7</th>\n      <td>S0000</td>\n      <td>E0007</td>\n      <td>DI_01_a</td>\n      <td>5</td>\n    </tr>\n    <tr>\n      <th>8</th>\n      <td>S0000</td>\n      <td>E0008</td>\n      <td>C0_01_b</td>\n      <td>2</td>\n    </tr>\n    <tr>\n      <th>9</th>\n      <td>S0000</td>\n      <td>E0009</td>\n      <td>CO_01_a</td>\n      <td>2</td>\n    </tr>\n    <tr>\n      <th>10</th>\n      <td>S0000</td>\n      <td>E0010</td>\n      <td>CO_01_a</td>\n      <td>2</td>\n    </tr>\n    <tr>\n      <th>11</th>\n      <td>S0000</td>\n      <td>E0011</td>\n      <td>DI_01_a</td>\n      <td>2</td>\n    </tr>\n    <tr>\n      <th>12</th>\n      <td>S0000</td>\n      <td>E0012</td>\n      <td>C0_01_b</td>\n      <td>2</td>\n    </tr>\n    <tr>\n      <th>13</th>\n      <td>S0000</td>\n      <td>E0013</td>\n      <td>DI_01_a</td>\n      <td>2</td>\n    </tr>\n    <tr>\n      <th>14</th>\n      <td>S0000</td>\n      <td>E0014</td>\n      <td>CO_01_a</td>\n      <td>3</td>\n    </tr>\n    <tr>\n      <th>15</th>\n      <td>S0000</td>\n      <td>E0015</td>\n      <td>CO_01_a</td>\n      <td>3</td>\n    </tr>\n    <tr>\n      <th>16</th>\n      <td>S0000</td>\n      <td>E0016</td>\n      <td>CO_01_a</td>\n      <td>3</td>\n    </tr>\n    <tr>\n      <th>17</th>\n      <td>S0000</td>\n      <td>E0017</td>\n      <td>DI_01_b</td>\n      <td>3</td>\n    </tr>\n    <tr>\n      <th>18</th>\n      <td>S0000</td>\n      <td>E0018</td>\n      <td>CO_01_c</td>\n      <td>2</td>\n    </tr>\n    <tr>\n      <th>19</th>\n      <td>S0000</td>\n      <td>E0019</td>\n      <td>CO_01_a</td>\n      <td>2</td>\n    </tr>\n    <tr>\n      <th>20</th>\n      <td>S0000</td>\n      <td>E0020</td>\n      <td>CO_01_c</td>\n      <td>2</td>\n    </tr>\n    <tr>\n      <th>21</th>\n      <td>S0000</td>\n      <td>E0021</td>\n      <td>DI_01_a</td>\n      <td>2</td>\n    </tr>\n    <tr>\n      <th>22</th>\n      <td>S0000</td>\n      <td>E0022</td>\n      <td>CO_01_a</td>\n      <td>2</td>\n    </tr>\n    <tr>\n      <th>23</th>\n      <td>S0000</td>\n      <td>E0023</td>\n      <td>DI_01_a</td>\n      <td>2</td>\n    </tr>\n    <tr>\n      <th>24</th>\n      <td>S0000</td>\n      <td>E0024</td>\n      <td>DI_01_a</td>\n      <td>2</td>\n    </tr>\n    <tr>\n      <th>25</th>\n      <td>S0000</td>\n      <td>E0025</td>\n      <td>CO_01_c</td>\n      <td>2</td>\n    </tr>\n    <tr>\n      <th>26</th>\n      <td>S0000</td>\n      <td>E0026</td>\n      <td>CO_01_c</td>\n      <td>2</td>\n    </tr>\n    <tr>\n      <th>27</th>\n      <td>S0000</td>\n      <td>E0027</td>\n      <td>DI_01_a</td>\n      <td>2</td>\n    </tr>\n    <tr>\n      <th>28</th>\n      <td>S0000</td>\n      <td>E0028</td>\n      <td>DI_01_a</td>\n      <td>3</td>\n    </tr>\n    <tr>\n      <th>29</th>\n      <td>S0000</td>\n      <td>E0029</td>\n      <td>CO_01_a</td>\n      <td>2</td>\n    </tr>\n    <tr>\n      <th>30</th>\n      <td>S0000</td>\n      <td>E0030</td>\n      <td>CO_01_a</td>\n      <td>3</td>\n    </tr>\n    <tr>\n      <th>31</th>\n      <td>S0000</td>\n      <td>E0031</td>\n      <td>C0_01_b</td>\n      <td>3</td>\n    </tr>\n    <tr>\n      <th>32</th>\n      <td>S0000</td>\n      <td>E0032</td>\n      <td>CO_01_a</td>\n      <td>2</td>\n    </tr>\n    <tr>\n      <th>33</th>\n      <td>S0000</td>\n      <td>E0033</td>\n      <td>CO_01_a</td>\n      <td>2</td>\n    </tr>\n    <tr>\n      <th>34</th>\n      <td>S0000</td>\n      <td>E0034</td>\n      <td>CO_01_a</td>\n      <td>3</td>\n    </tr>\n    <tr>\n      <th>35</th>\n      <td>S0000</td>\n      <td>E0035</td>\n      <td>CO_01_c</td>\n      <td>2</td>\n    </tr>\n    <tr>\n      <th>36</th>\n      <td>S0000</td>\n      <td>E0036</td>\n      <td>DI_01_a</td>\n      <td>3</td>\n    </tr>\n    <tr>\n      <th>37</th>\n      <td>S0000</td>\n      <td>E0037</td>\n      <td>CO_01_a</td>\n      <td>2</td>\n    </tr>\n    <tr>\n      <th>38</th>\n      <td>S0000</td>\n      <td>E0038</td>\n      <td>CO_01_c</td>\n      <td>2</td>\n    </tr>\n    <tr>\n      <th>39</th>\n      <td>S0000</td>\n      <td>E0039</td>\n      <td>DI_01_b</td>\n      <td>2</td>\n    </tr>\n  </tbody>\n</table>\n</div>"
     },
     "execution_count": 7,
     "metadata": {},
     "output_type": "execute_result"
    }
   ],
   "source": [
    "df_experiments['n_objects'] = df_experiments['objects'].apply(lambda x: len(x))\n",
    "df_experiments.drop(columns=['objects'], inplace=True)\n",
    "df_experiments['experiment_id'] = df_experiments['experiment_id'].str.strip()\n",
    "df_experiments['container_id'] = df_experiments['container_id'].str.strip()\n",
    "df_experiments"
   ],
   "metadata": {
    "collapsed": false,
    "ExecuteTime": {
     "start_time": "2023-05-02T11:31:42.883990Z",
     "end_time": "2023-05-02T11:31:42.925824Z"
    }
   }
  },
  {
   "cell_type": "code",
   "execution_count": 8,
   "outputs": [
    {
     "data": {
      "text/plain": "True"
     },
     "execution_count": 8,
     "metadata": {},
     "output_type": "execute_result"
    }
   ],
   "source": [
    "df_experiments.columns.tolist() == ['session_id', 'experiment_id', 'container_id', 'n_objects']"
   ],
   "metadata": {
    "collapsed": false,
    "ExecuteTime": {
     "start_time": "2023-05-02T11:31:45.557252Z",
     "end_time": "2023-05-02T11:31:45.571280Z"
    }
   }
  },
  {
   "cell_type": "code",
   "execution_count": 9,
   "outputs": [],
   "source": [
    "# add experiments to db\n",
    "db_queries.put_multiple_experiments(df_experiments)"
   ],
   "metadata": {
    "collapsed": false,
    "ExecuteTime": {
     "start_time": "2023-05-02T11:31:47.259261Z",
     "end_time": "2023-05-02T11:31:47.271263Z"
    }
   }
  },
  {
   "cell_type": "code",
   "execution_count": 10,
   "outputs": [
    {
     "data": {
      "text/plain": "   experiment_id container_id  n_objects session_id\n0          E0000      DI_01_b          2      S0000\n1          E0001      CO_01_c          2      S0000\n2          E0002      DI_01_b          2      S0000\n3          E0003      DI_01_b          2      S0000\n4          E0004      C0_01_b          2      S0000\n5          E0005      CO_01_c          2      S0000\n6          E0006      CO_01_a          2      S0000\n7          E0007      DI_01_a          5      S0000\n8          E0008      C0_01_b          2      S0000\n9          E0009      CO_01_a          2      S0000\n10         E0010      CO_01_a          2      S0000\n11         E0011      DI_01_a          2      S0000\n12         E0012      C0_01_b          2      S0000\n13         E0013      DI_01_a          2      S0000\n14         E0014      CO_01_a          3      S0000\n15         E0015      CO_01_a          3      S0000\n16         E0016      CO_01_a          3      S0000\n17         E0017      DI_01_b          3      S0000\n18         E0018      CO_01_c          2      S0000\n19         E0019      CO_01_a          2      S0000\n20         E0020      CO_01_c          2      S0000\n21         E0021      DI_01_a          2      S0000\n22         E0022      CO_01_a          2      S0000\n23         E0023      DI_01_a          2      S0000\n24         E0024      DI_01_a          2      S0000\n25         E0025      CO_01_c          2      S0000\n26         E0026      CO_01_c          2      S0000\n27         E0027      DI_01_a          2      S0000\n28         E0028      DI_01_a          3      S0000\n29         E0029      CO_01_a          2      S0000\n30         E0030      CO_01_a          3      S0000\n31         E0031      C0_01_b          3      S0000\n32         E0032      CO_01_a          2      S0000\n33         E0033      CO_01_a          2      S0000\n34         E0034      CO_01_a          3      S0000\n35         E0035      CO_01_c          2      S0000\n36         E0036      DI_01_a          3      S0000\n37         E0037      CO_01_a          2      S0000\n38         E0038      CO_01_c          2      S0000\n39         E0039      DI_01_b          2      S0000",
      "text/html": "<div>\n<style scoped>\n    .dataframe tbody tr th:only-of-type {\n        vertical-align: middle;\n    }\n\n    .dataframe tbody tr th {\n        vertical-align: top;\n    }\n\n    .dataframe thead th {\n        text-align: right;\n    }\n</style>\n<table border=\"1\" class=\"dataframe\">\n  <thead>\n    <tr style=\"text-align: right;\">\n      <th></th>\n      <th>experiment_id</th>\n      <th>container_id</th>\n      <th>n_objects</th>\n      <th>session_id</th>\n    </tr>\n  </thead>\n  <tbody>\n    <tr>\n      <th>0</th>\n      <td>E0000</td>\n      <td>DI_01_b</td>\n      <td>2</td>\n      <td>S0000</td>\n    </tr>\n    <tr>\n      <th>1</th>\n      <td>E0001</td>\n      <td>CO_01_c</td>\n      <td>2</td>\n      <td>S0000</td>\n    </tr>\n    <tr>\n      <th>2</th>\n      <td>E0002</td>\n      <td>DI_01_b</td>\n      <td>2</td>\n      <td>S0000</td>\n    </tr>\n    <tr>\n      <th>3</th>\n      <td>E0003</td>\n      <td>DI_01_b</td>\n      <td>2</td>\n      <td>S0000</td>\n    </tr>\n    <tr>\n      <th>4</th>\n      <td>E0004</td>\n      <td>C0_01_b</td>\n      <td>2</td>\n      <td>S0000</td>\n    </tr>\n    <tr>\n      <th>5</th>\n      <td>E0005</td>\n      <td>CO_01_c</td>\n      <td>2</td>\n      <td>S0000</td>\n    </tr>\n    <tr>\n      <th>6</th>\n      <td>E0006</td>\n      <td>CO_01_a</td>\n      <td>2</td>\n      <td>S0000</td>\n    </tr>\n    <tr>\n      <th>7</th>\n      <td>E0007</td>\n      <td>DI_01_a</td>\n      <td>5</td>\n      <td>S0000</td>\n    </tr>\n    <tr>\n      <th>8</th>\n      <td>E0008</td>\n      <td>C0_01_b</td>\n      <td>2</td>\n      <td>S0000</td>\n    </tr>\n    <tr>\n      <th>9</th>\n      <td>E0009</td>\n      <td>CO_01_a</td>\n      <td>2</td>\n      <td>S0000</td>\n    </tr>\n    <tr>\n      <th>10</th>\n      <td>E0010</td>\n      <td>CO_01_a</td>\n      <td>2</td>\n      <td>S0000</td>\n    </tr>\n    <tr>\n      <th>11</th>\n      <td>E0011</td>\n      <td>DI_01_a</td>\n      <td>2</td>\n      <td>S0000</td>\n    </tr>\n    <tr>\n      <th>12</th>\n      <td>E0012</td>\n      <td>C0_01_b</td>\n      <td>2</td>\n      <td>S0000</td>\n    </tr>\n    <tr>\n      <th>13</th>\n      <td>E0013</td>\n      <td>DI_01_a</td>\n      <td>2</td>\n      <td>S0000</td>\n    </tr>\n    <tr>\n      <th>14</th>\n      <td>E0014</td>\n      <td>CO_01_a</td>\n      <td>3</td>\n      <td>S0000</td>\n    </tr>\n    <tr>\n      <th>15</th>\n      <td>E0015</td>\n      <td>CO_01_a</td>\n      <td>3</td>\n      <td>S0000</td>\n    </tr>\n    <tr>\n      <th>16</th>\n      <td>E0016</td>\n      <td>CO_01_a</td>\n      <td>3</td>\n      <td>S0000</td>\n    </tr>\n    <tr>\n      <th>17</th>\n      <td>E0017</td>\n      <td>DI_01_b</td>\n      <td>3</td>\n      <td>S0000</td>\n    </tr>\n    <tr>\n      <th>18</th>\n      <td>E0018</td>\n      <td>CO_01_c</td>\n      <td>2</td>\n      <td>S0000</td>\n    </tr>\n    <tr>\n      <th>19</th>\n      <td>E0019</td>\n      <td>CO_01_a</td>\n      <td>2</td>\n      <td>S0000</td>\n    </tr>\n    <tr>\n      <th>20</th>\n      <td>E0020</td>\n      <td>CO_01_c</td>\n      <td>2</td>\n      <td>S0000</td>\n    </tr>\n    <tr>\n      <th>21</th>\n      <td>E0021</td>\n      <td>DI_01_a</td>\n      <td>2</td>\n      <td>S0000</td>\n    </tr>\n    <tr>\n      <th>22</th>\n      <td>E0022</td>\n      <td>CO_01_a</td>\n      <td>2</td>\n      <td>S0000</td>\n    </tr>\n    <tr>\n      <th>23</th>\n      <td>E0023</td>\n      <td>DI_01_a</td>\n      <td>2</td>\n      <td>S0000</td>\n    </tr>\n    <tr>\n      <th>24</th>\n      <td>E0024</td>\n      <td>DI_01_a</td>\n      <td>2</td>\n      <td>S0000</td>\n    </tr>\n    <tr>\n      <th>25</th>\n      <td>E0025</td>\n      <td>CO_01_c</td>\n      <td>2</td>\n      <td>S0000</td>\n    </tr>\n    <tr>\n      <th>26</th>\n      <td>E0026</td>\n      <td>CO_01_c</td>\n      <td>2</td>\n      <td>S0000</td>\n    </tr>\n    <tr>\n      <th>27</th>\n      <td>E0027</td>\n      <td>DI_01_a</td>\n      <td>2</td>\n      <td>S0000</td>\n    </tr>\n    <tr>\n      <th>28</th>\n      <td>E0028</td>\n      <td>DI_01_a</td>\n      <td>3</td>\n      <td>S0000</td>\n    </tr>\n    <tr>\n      <th>29</th>\n      <td>E0029</td>\n      <td>CO_01_a</td>\n      <td>2</td>\n      <td>S0000</td>\n    </tr>\n    <tr>\n      <th>30</th>\n      <td>E0030</td>\n      <td>CO_01_a</td>\n      <td>3</td>\n      <td>S0000</td>\n    </tr>\n    <tr>\n      <th>31</th>\n      <td>E0031</td>\n      <td>C0_01_b</td>\n      <td>3</td>\n      <td>S0000</td>\n    </tr>\n    <tr>\n      <th>32</th>\n      <td>E0032</td>\n      <td>CO_01_a</td>\n      <td>2</td>\n      <td>S0000</td>\n    </tr>\n    <tr>\n      <th>33</th>\n      <td>E0033</td>\n      <td>CO_01_a</td>\n      <td>2</td>\n      <td>S0000</td>\n    </tr>\n    <tr>\n      <th>34</th>\n      <td>E0034</td>\n      <td>CO_01_a</td>\n      <td>3</td>\n      <td>S0000</td>\n    </tr>\n    <tr>\n      <th>35</th>\n      <td>E0035</td>\n      <td>CO_01_c</td>\n      <td>2</td>\n      <td>S0000</td>\n    </tr>\n    <tr>\n      <th>36</th>\n      <td>E0036</td>\n      <td>DI_01_a</td>\n      <td>3</td>\n      <td>S0000</td>\n    </tr>\n    <tr>\n      <th>37</th>\n      <td>E0037</td>\n      <td>CO_01_a</td>\n      <td>2</td>\n      <td>S0000</td>\n    </tr>\n    <tr>\n      <th>38</th>\n      <td>E0038</td>\n      <td>CO_01_c</td>\n      <td>2</td>\n      <td>S0000</td>\n    </tr>\n    <tr>\n      <th>39</th>\n      <td>E0039</td>\n      <td>DI_01_b</td>\n      <td>2</td>\n      <td>S0000</td>\n    </tr>\n  </tbody>\n</table>\n</div>"
     },
     "execution_count": 10,
     "metadata": {},
     "output_type": "execute_result"
    }
   ],
   "source": [
    "# current experiments\n",
    "db_queries.run_query('SELECT * FROM experiments')"
   ],
   "metadata": {
    "collapsed": false,
    "ExecuteTime": {
     "start_time": "2023-05-02T11:31:48.374339Z",
     "end_time": "2023-05-02T11:31:48.447160Z"
    }
   }
  },
  {
   "cell_type": "markdown",
   "source": [
    "## Populate experiment_objects table"
   ],
   "metadata": {
    "collapsed": false
   }
  },
  {
   "cell_type": "code",
   "execution_count": 17,
   "outputs": [
    {
     "data": {
      "text/plain": "Empty DataFrame\nColumns: [experiment_id, object_id]\nIndex: []",
      "text/html": "<div>\n<style scoped>\n    .dataframe tbody tr th:only-of-type {\n        vertical-align: middle;\n    }\n\n    .dataframe tbody tr th {\n        vertical-align: top;\n    }\n\n    .dataframe thead th {\n        text-align: right;\n    }\n</style>\n<table border=\"1\" class=\"dataframe\">\n  <thead>\n    <tr style=\"text-align: right;\">\n      <th></th>\n      <th>experiment_id</th>\n      <th>object_id</th>\n    </tr>\n  </thead>\n  <tbody>\n  </tbody>\n</table>\n</div>"
     },
     "execution_count": 17,
     "metadata": {},
     "output_type": "execute_result"
    }
   ],
   "source": [
    "# current experiment_objects\n",
    "db_queries.run_query('SELECT * FROM experiment_objects LIMIT 10')"
   ],
   "metadata": {
    "collapsed": false,
    "ExecuteTime": {
     "start_time": "2023-05-02T11:34:01.614778Z",
     "end_time": "2023-05-02T11:34:01.651848Z"
    }
   }
  },
  {
   "cell_type": "code",
   "execution_count": 18,
   "outputs": [],
   "source": [
    "# add experiment_objects to db\n",
    "for i, row in df_experiment_objects.iterrows():\n",
    "    db_queries.link_experiment_objects(row['experiment_id'], row['objects'])"
   ],
   "metadata": {
    "collapsed": false,
    "ExecuteTime": {
     "start_time": "2023-05-02T11:34:01.942136Z",
     "end_time": "2023-05-02T11:34:02.096147Z"
    }
   }
  },
  {
   "cell_type": "code",
   "execution_count": 19,
   "outputs": [
    {
     "data": {
      "text/plain": "  experiment_id object_id\n0         E0000      14_1\n1         E0000       2_5\n2         E0001      13_9\n3         E0001      7_12\n4         E0002     16_15\n5         E0002      3_12\n6         E0003       4_9\n7         E0003      12_4\n8         E0004      15_8\n9         E0004      7_13",
      "text/html": "<div>\n<style scoped>\n    .dataframe tbody tr th:only-of-type {\n        vertical-align: middle;\n    }\n\n    .dataframe tbody tr th {\n        vertical-align: top;\n    }\n\n    .dataframe thead th {\n        text-align: right;\n    }\n</style>\n<table border=\"1\" class=\"dataframe\">\n  <thead>\n    <tr style=\"text-align: right;\">\n      <th></th>\n      <th>experiment_id</th>\n      <th>object_id</th>\n    </tr>\n  </thead>\n  <tbody>\n    <tr>\n      <th>0</th>\n      <td>E0000</td>\n      <td>14_1</td>\n    </tr>\n    <tr>\n      <th>1</th>\n      <td>E0000</td>\n      <td>2_5</td>\n    </tr>\n    <tr>\n      <th>2</th>\n      <td>E0001</td>\n      <td>13_9</td>\n    </tr>\n    <tr>\n      <th>3</th>\n      <td>E0001</td>\n      <td>7_12</td>\n    </tr>\n    <tr>\n      <th>4</th>\n      <td>E0002</td>\n      <td>16_15</td>\n    </tr>\n    <tr>\n      <th>5</th>\n      <td>E0002</td>\n      <td>3_12</td>\n    </tr>\n    <tr>\n      <th>6</th>\n      <td>E0003</td>\n      <td>4_9</td>\n    </tr>\n    <tr>\n      <th>7</th>\n      <td>E0003</td>\n      <td>12_4</td>\n    </tr>\n    <tr>\n      <th>8</th>\n      <td>E0004</td>\n      <td>15_8</td>\n    </tr>\n    <tr>\n      <th>9</th>\n      <td>E0004</td>\n      <td>7_13</td>\n    </tr>\n  </tbody>\n</table>\n</div>"
     },
     "execution_count": 19,
     "metadata": {},
     "output_type": "execute_result"
    }
   ],
   "source": [
    "# current experiment_objects\n",
    "db_queries.run_query('SELECT * FROM experiment_objects LIMIT 10')"
   ],
   "metadata": {
    "collapsed": false,
    "ExecuteTime": {
     "start_time": "2023-05-02T11:34:02.283824Z",
     "end_time": "2023-05-02T11:34:02.295824Z"
    }
   }
  },
  {
   "cell_type": "markdown",
   "source": [],
   "metadata": {
    "collapsed": false
   }
  }
 ],
 "metadata": {
  "kernelspec": {
   "display_name": "Python 3",
   "language": "python",
   "name": "python3"
  },
  "language_info": {
   "codemirror_mode": {
    "name": "ipython",
    "version": 2
   },
   "file_extension": ".py",
   "mimetype": "text/x-python",
   "name": "python",
   "nbconvert_exporter": "python",
   "pygments_lexer": "ipython2",
   "version": "2.7.6"
  }
 },
 "nbformat": 4,
 "nbformat_minor": 0
}
