{
 "cells": [
  {
   "cell_type": "code",
   "execution_count": 1,
   "metadata": {
    "collapsed": true,
    "ExecuteTime": {
     "end_time": "2023-05-26T15:02:23.342042300Z",
     "start_time": "2023-05-26T15:02:22.914450300Z"
    }
   },
   "outputs": [],
   "source": [
    "import pandas as pd\n",
    "import os\n",
    "import json\n",
    "from ast import literal_eval"
   ]
  },
  {
   "cell_type": "code",
   "execution_count": 19,
   "outputs": [],
   "source": [
    "session_id: str = \"S0001_UNKNOWN\" # \"S0001_PP\", \"S0001_UNKNOWN\"\n",
    "target: str = session_id.split('_')[1]\n",
    "n_experiments: int = 20\n",
    "experiment_ids: list = [f\"E{i:04d}\" for i in range(1, n_experiments + 1)]"
   ],
   "metadata": {
    "collapsed": false,
    "ExecuteTime": {
     "end_time": "2023-05-26T15:03:29.123913800Z",
     "start_time": "2023-05-26T15:03:29.103904100Z"
    }
   }
  },
  {
   "cell_type": "code",
   "execution_count": 20,
   "outputs": [],
   "source": [
    "def build_json(session_id, experiment_id, container_id, objects):\n",
    "    return {\n",
    "        'type': 'sample',\n",
    "        'session_id': session_id.strip(),\n",
    "        'experiment_id': experiment_id.strip(),\n",
    "        'container_id': container_id.strip(),\n",
    "        'status': 'pending',\n",
    "        'n_objects': len(objects),\n",
    "        'aligned': False,\n",
    "        'annotations': [{'object': item.strip()} for item in objects]\n",
    "    }"
   ],
   "metadata": {
    "collapsed": false,
    "ExecuteTime": {
     "end_time": "2023-05-26T15:03:29.282562800Z",
     "start_time": "2023-05-26T15:03:29.266547800Z"
    }
   }
  },
  {
   "cell_type": "code",
   "execution_count": 21,
   "outputs": [],
   "source": [
    "result: pd.DataFrame = pd.DataFrame(columns=['session_id', 'experiment_id', 'container_id', 'objects'])\n",
    "\n",
    "experiments = []\n",
    "for i, experiment_id in enumerate(experiment_ids):\n",
    "    experiment = build_json(session_id, experiment_id + '_' + target, 'COMPOST' if i < 10 else 'DIGESTATE', [\"3.5\"])\n",
    "    experiments.append(experiment)"
   ],
   "metadata": {
    "collapsed": false,
    "ExecuteTime": {
     "end_time": "2023-05-26T15:03:29.452892800Z",
     "start_time": "2023-05-26T15:03:29.423283100Z"
    }
   }
  },
  {
   "cell_type": "code",
   "execution_count": 22,
   "outputs": [],
   "source": [
    "# create folder\n",
    "try:\n",
    "    os.mkdir(f'./data/{session_id}')\n",
    "except:\n",
    "    pass"
   ],
   "metadata": {
    "collapsed": false,
    "ExecuteTime": {
     "end_time": "2023-05-26T15:03:29.595604900Z",
     "start_time": "2023-05-26T15:03:29.584606800Z"
    }
   }
  },
  {
   "cell_type": "code",
   "execution_count": 23,
   "outputs": [],
   "source": [
    "for experiment in experiments:\n",
    "    # create folder\n",
    "    os.mkdir(f'./data/{session_id}/{experiment[\"experiment_id\"]}')\n",
    "    with open(f'./data/{session_id}/{experiment[\"experiment_id\"]}/data.json', 'bw') as f:\n",
    "        # save nicely formatted json\n",
    "        f.write(json.dumps(experiment, indent=4).encode('utf-8'))\n",
    "    with open(f'./data/{session_id}/{experiment[\"experiment_id\"]}/instructions_impurities.txt', 'w') as f:\n",
    "        # save nicely formatted json\n",
    "        f.write(\"instructions impurities\")"
   ],
   "metadata": {
    "collapsed": false,
    "ExecuteTime": {
     "end_time": "2023-05-26T15:03:29.770131700Z",
     "start_time": "2023-05-26T15:03:29.744024400Z"
    }
   }
  },
  {
   "cell_type": "code",
   "execution_count": 17,
   "outputs": [],
   "source": [],
   "metadata": {
    "collapsed": false,
    "ExecuteTime": {
     "end_time": "2023-05-26T15:03:12.752604400Z",
     "start_time": "2023-05-26T15:03:12.738585100Z"
    }
   }
  },
  {
   "cell_type": "code",
   "execution_count": null,
   "outputs": [],
   "source": [],
   "metadata": {
    "collapsed": false
   }
  }
 ],
 "metadata": {
  "kernelspec": {
   "display_name": "Python 3",
   "language": "python",
   "name": "python3"
  },
  "language_info": {
   "codemirror_mode": {
    "name": "ipython",
    "version": 2
   },
   "file_extension": ".py",
   "mimetype": "text/x-python",
   "name": "python",
   "nbconvert_exporter": "python",
   "pygments_lexer": "ipython2",
   "version": "2.7.6"
  }
 },
 "nbformat": 4,
 "nbformat_minor": 0
}
