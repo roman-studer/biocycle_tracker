{
 "cells": [
  {
   "cell_type": "markdown",
   "source": [
    "# Create json files for each experiment\n",
    "\n",
    "Load a list of experiments by `session_id` and create the necessary json files for it in the `./data/{session_id}` folder."
   ],
   "metadata": {
    "collapsed": false
   }
  },
  {
   "cell_type": "code",
   "execution_count": 25,
   "metadata": {
    "collapsed": true,
    "ExecuteTime": {
     "start_time": "2023-05-02T15:10:41.668411Z",
     "end_time": "2023-05-02T15:10:41.685789Z"
    }
   },
   "outputs": [],
   "source": [
    "import pandas as pd\n",
    "import json\n",
    "from ast import literal_eval\n",
    "import os\n",
    "import db_queries"
   ]
  },
  {
   "cell_type": "code",
   "execution_count": 19,
   "outputs": [],
   "source": [
    "# load in the data\n",
    "session_id = 'S0001' # db_builder.get_next_session_id()\n",
    "result = db_queries.get_complete_session(session_id)\n",
    "df = pd.DataFrame(columns=['session_id', 'experiment_id', 'container_id', 'objects'], data=result )\n",
    "\n",
    "# evaluate objects to list\n",
    "df['objects'] = df['objects'].apply(lambda x: x.split(','))"
   ],
   "metadata": {
    "collapsed": false,
    "ExecuteTime": {
     "start_time": "2023-05-02T15:10:19.008035Z",
     "end_time": "2023-05-02T15:10:19.016037Z"
    }
   }
  },
  {
   "cell_type": "code",
   "execution_count": 21,
   "outputs": [],
   "source": [
    "def build_json(session_id, experiment_id, container_id, objects):\n",
    "    return {\n",
    "        'session_id': session_id.strip(),\n",
    "        'experiment_id': experiment_id.strip(),\n",
    "        'container_id': container_id.strip(),\n",
    "        'status': 'pending',\n",
    "        'n_objects': len(objects),\n",
    "        'aligned': False,\n",
    "        'annotations': [{'object': item.strip()} for item in objects]\n",
    "    }"
   ],
   "metadata": {
    "collapsed": false,
    "ExecuteTime": {
     "start_time": "2023-05-02T15:10:27.614331Z",
     "end_time": "2023-05-02T15:10:27.627613Z"
    }
   }
  },
  {
   "cell_type": "code",
   "execution_count": 22,
   "outputs": [],
   "source": [
    "experiments = []\n",
    "\n",
    "for i, row in df.iterrows():\n",
    "    json = build_json(row['session_id'], row['experiment_id'], row['container_id'], row['objects'])\n",
    "    experiments.append(json)"
   ],
   "metadata": {
    "collapsed": false,
    "ExecuteTime": {
     "start_time": "2023-05-02T15:10:29.307793Z",
     "end_time": "2023-05-02T15:10:29.315757Z"
    }
   }
  },
  {
   "cell_type": "code",
   "execution_count": 26,
   "outputs": [],
   "source": [
    "# create folder\n",
    "os.mkdir(f'./data/{session_id}')"
   ],
   "metadata": {
    "collapsed": false,
    "ExecuteTime": {
     "start_time": "2023-05-02T15:10:50.185842Z",
     "end_time": "2023-05-02T15:10:50.198124Z"
    }
   }
  },
  {
   "cell_type": "code",
   "execution_count": 27,
   "outputs": [],
   "source": [
    "# save files\n",
    "for experiment in experiments:\n",
    "    with open(f'./data/{session_id}/{experiment[\"experiment_id\"]}.json', 'bw') as f:\n",
    "        # save nicely formatted json\n",
    "        f.write(json.dumps(experiment, indent=4).encode('utf-8'))"
   ],
   "metadata": {
    "collapsed": false,
    "ExecuteTime": {
     "start_time": "2023-05-02T15:10:59.247824Z",
     "end_time": "2023-05-02T15:10:59.268821Z"
    }
   }
  }
 ],
 "metadata": {
  "kernelspec": {
   "display_name": "Python 3",
   "language": "python",
   "name": "python3"
  },
  "language_info": {
   "codemirror_mode": {
    "name": "ipython",
    "version": 2
   },
   "file_extension": ".py",
   "mimetype": "text/x-python",
   "name": "python",
   "nbconvert_exporter": "python",
   "pygments_lexer": "ipython2",
   "version": "2.7.6"
  }
 },
 "nbformat": 4,
 "nbformat_minor": 0
}
