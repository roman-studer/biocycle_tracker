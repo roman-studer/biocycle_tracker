{
 "cells": [
  {
   "cell_type": "markdown",
   "source": [
    "# Create json files for each experiment\n",
    "\n",
    "Load a list of experiments by `session_id` and create the necessary json files for it in the `./data/{session_id}` folder."
   ],
   "metadata": {
    "collapsed": false
   }
  },
  {
   "cell_type": "code",
   "execution_count": 113,
   "metadata": {
    "collapsed": true,
    "ExecuteTime": {
     "end_time": "2023-07-27T14:14:45.659578800Z",
     "start_time": "2023-07-27T14:14:45.652581900Z"
    }
   },
   "outputs": [],
   "source": [
    "import pandas as pd\n",
    "import json\n",
    "from ast import literal_eval\n",
    "import os\n",
    "import db_queries"
   ]
  },
  {
   "cell_type": "code",
   "execution_count": 114,
   "outputs": [],
   "source": [
    "# load in the data\n",
    "session_id = 'S0040' # db_builder.get_next_session_id()\n",
    "result = db_queries.get_complete_session(session_id)\n",
    "df = pd.DataFrame(columns=['session_id', 'experiment_id', 'container_id', 'objects'], data=result )\n",
    "\n",
    "# evaluate objects to list\n",
    "df['objects'] = df['objects'].apply(lambda x: x.split(','))"
   ],
   "metadata": {
    "collapsed": false,
    "ExecuteTime": {
     "end_time": "2023-07-27T14:14:45.698097400Z",
     "start_time": "2023-07-27T14:14:45.654580500Z"
    }
   }
  },
  {
   "cell_type": "code",
   "execution_count": 115,
   "outputs": [
    {
     "data": {
      "text/plain": "[('S0040', 'E0440', 'CO-04', '11_15,3_10'),\n ('S0040', 'E0441', 'CO-04', '13_8,2_2'),\n ('S0040', 'E0442', 'CO-04', '13_4,4_6,8_6'),\n ('S0040', 'E0443', 'DI-11', '13_10,4_10,7_14,7_15,7_5'),\n ('S0040', 'E0444', 'CO-04', '11_15,4_9'),\n ('S0040', 'E0445', 'DI-11', '7_4,7_6,9_5'),\n ('S0040', 'E0446', 'CO-03', '14_7,15_1'),\n ('S0040', 'E0447', 'CO-03', '15_3,9_4'),\n ('S0040', 'E0448', 'CO-04', '11_11,15_10,17_1'),\n ('S0040', 'E0449', 'DI-07', '13_2,17_9')]"
     },
     "execution_count": 115,
     "metadata": {},
     "output_type": "execute_result"
    }
   ],
   "source": [
    "result"
   ],
   "metadata": {
    "collapsed": false,
    "ExecuteTime": {
     "end_time": "2023-07-27T14:14:45.707118200Z",
     "start_time": "2023-07-27T14:14:45.670581100Z"
    }
   }
  },
  {
   "cell_type": "code",
   "execution_count": 116,
   "outputs": [],
   "source": [
    "def build_json(session_id, experiment_id, container_id, objects):\n",
    "    return {\n",
    "        'type': 'sample',\n",
    "        'session_id': session_id.strip(),\n",
    "        'experiment_id': experiment_id.strip(),\n",
    "        'container_id': container_id.strip(),\n",
    "        'status': 'pending',\n",
    "        'n_objects': len(objects),\n",
    "        'aligned': False,\n",
    "        'annotations': [{'object': item.strip()} for item in objects]\n",
    "    }"
   ],
   "metadata": {
    "collapsed": false,
    "ExecuteTime": {
     "end_time": "2023-07-27T14:14:45.708104200Z",
     "start_time": "2023-07-27T14:14:45.698097400Z"
    }
   }
  },
  {
   "cell_type": "code",
   "execution_count": 117,
   "outputs": [],
   "source": [
    "experiments = []\n",
    "\n",
    "for i, row in df.iterrows():\n",
    "    j = build_json(row['session_id'], row['experiment_id'], row['container_id'], row['objects'])\n",
    "    experiments.append(j)"
   ],
   "metadata": {
    "collapsed": false,
    "ExecuteTime": {
     "end_time": "2023-07-27T14:14:45.716099100Z",
     "start_time": "2023-07-27T14:14:45.701101500Z"
    }
   }
  },
  {
   "cell_type": "code",
   "execution_count": 118,
   "outputs": [],
   "source": [
    "# create folder\n",
    "try:\n",
    "    os.mkdir(f'./data/{session_id}')\n",
    "except:\n",
    "    pass"
   ],
   "metadata": {
    "collapsed": false,
    "ExecuteTime": {
     "end_time": "2023-07-27T14:14:45.762098600Z",
     "start_time": "2023-07-27T14:14:45.719102900Z"
    }
   }
  },
  {
   "cell_type": "code",
   "execution_count": 119,
   "outputs": [
    {
     "name": "stdout",
     "output_type": "stream",
     "text": [
      "{'type': 'sample', 'session_id': 'S0040', 'experiment_id': 'E0440', 'container_id': 'CO-04', 'status': 'pending', 'n_objects': 2, 'aligned': False, 'annotations': [{'object': '11_15'}, {'object': '3_10'}]}\n",
      "{'type': 'sample', 'session_id': 'S0040', 'experiment_id': 'E0441', 'container_id': 'CO-04', 'status': 'pending', 'n_objects': 2, 'aligned': False, 'annotations': [{'object': '13_8'}, {'object': '2_2'}]}\n",
      "{'type': 'sample', 'session_id': 'S0040', 'experiment_id': 'E0442', 'container_id': 'CO-04', 'status': 'pending', 'n_objects': 3, 'aligned': False, 'annotations': [{'object': '13_4'}, {'object': '4_6'}, {'object': '8_6'}]}\n",
      "{'type': 'sample', 'session_id': 'S0040', 'experiment_id': 'E0443', 'container_id': 'DI-11', 'status': 'pending', 'n_objects': 5, 'aligned': False, 'annotations': [{'object': '13_10'}, {'object': '4_10'}, {'object': '7_14'}, {'object': '7_15'}, {'object': '7_5'}]}\n",
      "{'type': 'sample', 'session_id': 'S0040', 'experiment_id': 'E0444', 'container_id': 'CO-04', 'status': 'pending', 'n_objects': 2, 'aligned': False, 'annotations': [{'object': '11_15'}, {'object': '4_9'}]}\n",
      "{'type': 'sample', 'session_id': 'S0040', 'experiment_id': 'E0445', 'container_id': 'DI-11', 'status': 'pending', 'n_objects': 3, 'aligned': False, 'annotations': [{'object': '7_4'}, {'object': '7_6'}, {'object': '9_5'}]}\n",
      "{'type': 'sample', 'session_id': 'S0040', 'experiment_id': 'E0446', 'container_id': 'CO-03', 'status': 'pending', 'n_objects': 2, 'aligned': False, 'annotations': [{'object': '14_7'}, {'object': '15_1'}]}\n",
      "{'type': 'sample', 'session_id': 'S0040', 'experiment_id': 'E0447', 'container_id': 'CO-03', 'status': 'pending', 'n_objects': 2, 'aligned': False, 'annotations': [{'object': '15_3'}, {'object': '9_4'}]}\n",
      "{'type': 'sample', 'session_id': 'S0040', 'experiment_id': 'E0448', 'container_id': 'CO-04', 'status': 'pending', 'n_objects': 3, 'aligned': False, 'annotations': [{'object': '11_11'}, {'object': '15_10'}, {'object': '17_1'}]}\n",
      "{'type': 'sample', 'session_id': 'S0040', 'experiment_id': 'E0449', 'container_id': 'DI-07', 'status': 'pending', 'n_objects': 2, 'aligned': False, 'annotations': [{'object': '13_2'}, {'object': '17_9'}]}\n"
     ]
    }
   ],
   "source": [
    "for experiment in experiments:\n",
    "    print(experiment)"
   ],
   "metadata": {
    "collapsed": false,
    "ExecuteTime": {
     "end_time": "2023-07-27T14:14:45.767101500Z",
     "start_time": "2023-07-27T14:14:45.733102400Z"
    }
   }
  },
  {
   "cell_type": "code",
   "execution_count": 120,
   "outputs": [],
   "source": [
    "os.mkdir(f'./data/{session_id}/A0000_calibration')\n",
    "os.mkdir(f'./data/{session_id}/A0001_empty_tray')\n",
    "os.mkdir(f'./data/{session_id}/Z9999_calibration')\n",
    "\n",
    "with open(f'./data/{session_id}/A0000_calibration/data.json', 'bw') as f:\n",
    "    f.write(json.dumps({'type': 'calibration', 'session_id': session_id, 'experiment_id': 'A0000_calibration', 'container_id': 'N/A', 'status': 'pending', 'n_objects': 0, 'aligned': False, 'annotations': []}, indent=4).encode('utf-8'))\n",
    "with open(f'./data/{session_id}/A0000_calibration/instructions_calibration.txt', 'w') as f:\n",
    "    f.write(\"instructions calibration\")\n",
    "\n",
    "with open(f'./data/{session_id}/A0001_empty_tray/data.json', 'bw') as f:\n",
    "    f.write(json.dumps({'type': 'empty_tray', 'session_id': session_id, 'experiment_id': 'A0001_empty_tray', 'container_id': 'N/A', 'status': 'pending', 'n_objects': 0, 'aligned': False, 'annotations': []}, indent=4).encode('utf-8'))\n",
    "with open(f'./data/{session_id}/A0001_empty_tray/instructions_empty_tray.txt', 'w') as f:\n",
    "    f.write(\"instructions empty tray\")\n",
    "\n",
    "with open(f'./data/{session_id}/Z9999_calibration/data.json', 'bw') as f:\n",
    "    f.write(json.dumps({'type': 'calibration', 'session_id': session_id, 'experiment_id': 'Z9999_calibration', 'container_id': 'N/A', 'status': 'pending', 'n_objects': 0, 'aligned': False, 'annotations': []}, indent=4).encode('utf-8'))\n",
    "with open(f'./data/{session_id}/Z9999_calibration/instructions_calibration.txt', 'w') as f:\n",
    "    f.write(\"instructions calibration\")\n",
    "\n",
    "\n",
    "for experiment in experiments:\n",
    "    # create folder\n",
    "    try:\n",
    "        os.mkdir(f'./data/{session_id}/{experiment[\"experiment_id\"]}')\n",
    "    except:\n",
    "        pass\n",
    "    with open(f'./data/{session_id}/{experiment[\"experiment_id\"]}/data.json', 'bw') as f:\n",
    "        f.write(json.dumps(experiment, indent=4).encode('utf-8'))\n",
    "    with open(f'./data/{session_id}/{experiment[\"experiment_id\"]}/instructions_impurities.txt', 'w') as f:\n",
    "        f.write(\"instructions impurities\")\n",
    "\n",
    "    with open(f'./data/{session_id}/{experiment[\"experiment_id\"]}/instructions_mixed.txt', 'w') as f:\n",
    "        f.write(\"instructions mixed\")\n",
    "\n",
    "    with open(f'./data/{session_id}/{experiment[\"experiment_id\"]}/instructions_clean.txt', 'w') as f:\n",
    "        f.write(\"instructions clean\")"
   ],
   "metadata": {
    "collapsed": false,
    "ExecuteTime": {
     "end_time": "2023-07-27T14:14:45.783135700Z",
     "start_time": "2023-07-27T14:14:45.762098600Z"
    }
   }
  },
  {
   "cell_type": "code",
   "execution_count": 120,
   "outputs": [],
   "source": [],
   "metadata": {
    "collapsed": false,
    "ExecuteTime": {
     "end_time": "2023-07-27T14:14:45.825681300Z",
     "start_time": "2023-07-27T14:14:45.781103700Z"
    }
   }
  }
 ],
 "metadata": {
  "kernelspec": {
   "display_name": "Python 3",
   "language": "python",
   "name": "python3"
  },
  "language_info": {
   "codemirror_mode": {
    "name": "ipython",
    "version": 2
   },
   "file_extension": ".py",
   "mimetype": "text/x-python",
   "name": "python",
   "nbconvert_exporter": "python",
   "pygments_lexer": "ipython2",
   "version": "2.7.6"
  }
 },
 "nbformat": 4,
 "nbformat_minor": 0
}
